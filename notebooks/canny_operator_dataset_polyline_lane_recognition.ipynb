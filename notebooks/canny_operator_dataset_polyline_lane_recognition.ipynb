{
  "cells": [
    {
      "cell_type": "markdown",
      "metadata": {
        "id": "view-in-github",
        "colab_type": "text"
      },
      "source": [
        "<a href=\"https://colab.research.google.com/github/BondaiKa/lane_line_recognition/blob/feature%2Ftu-simple-using/notebooks/canny_operator_dataset_polyline_lane_recognition.ipynb\" target=\"_parent\"><img src=\"https://colab.research.google.com/assets/colab-badge.svg\" alt=\"Open In Colab\"/></a>"
      ]
    },
    {
      "cell_type": "code",
      "execution_count": 1,
      "metadata": {
        "colab": {
          "base_uri": "https://localhost:8080/"
        },
        "id": "rl_G4kcv0H2d",
        "outputId": "12191fe3-f2a0-45be-8a75-0cc9f76f66c3"
      },
      "outputs": [
        {
          "output_type": "stream",
          "name": "stdout",
          "text": [
            "Mounted at /content/drive\n"
          ]
        }
      ],
      "source": [
        "from google.colab import drive\n",
        "drive.mount('/content/drive')"
      ]
    },
    {
      "cell_type": "code",
      "execution_count": 2,
      "metadata": {
        "id": "lbTZSZG80JDI"
      },
      "outputs": [],
      "source": [
        "import os\n",
        "import numpy as np\n",
        "import glob\n",
        "import json\n",
        "import math\n",
        "import cv2\n",
        "import h5py\n",
        "import random\n",
        "import matplotlib.image as mpimg\n",
        "import matplotlib.pyplot as plt\n",
        "import tensorflow as tf\n",
        "\n",
        "from functools import reduce\n",
        "from abc import ABCMeta, abstractmethod\n",
        "from tensorflow.keras.utils import Sequence\n",
        "from tensorflow.keras import layers, Model\n",
        "from typing import Tuple, List, Dict, Iterable, Optional, NamedTuple, Union, Tuple, List, Callable, Type\n",
        "from pathlib import Path\n",
        "from google.colab.patches import cv2_imshow\n",
        "\n",
        "%matplotlib inline"
      ]
    },
    {
      "cell_type": "code",
      "source": [
        "import logging\n",
        "log = logging.getLogger('my_logger')\n",
        "\n",
        "logging.basicConfig(format=\"[%(asctime)s] [%(levelname)s] [%(funcName)s] %(message)s\", level=logging.DEBUG)"
      ],
      "metadata": {
        "id": "hUUG--15-gR5"
      },
      "execution_count": 3,
      "outputs": []
    },
    {
      "cell_type": "code",
      "execution_count": 4,
      "metadata": {
        "colab": {
          "base_uri": "https://localhost:8080/"
        },
        "id": "0YworgUx0zcy",
        "outputId": "8fd62907-f219-455a-cf07-25a8de43fda3"
      },
      "outputs": [
        {
          "output_type": "stream",
          "name": "stdout",
          "text": [
            "label_data_joined.json\t     test_label.json\t\t   train_set.zip\n",
            "test_frame.png\t\t     test_set.zip\n",
            "test_label_data_joined.json  train_label_data_joined.json\n",
            "---\n",
            "dataset.rar  models.rar  tusimple\n"
          ]
        }
      ],
      "source": [
        "!ls drive/MyDrive/Ilmenau/tusimple/\n",
        "print('---')\n",
        "!ls drive/MyDrive/Ilmenau/"
      ]
    },
    {
      "cell_type": "code",
      "source": [
        "!mkdir /tmp/tu_simple/\n",
        "!mkdir /tmp/tu_simple/train/\n",
        "!mkdir /tmp/tu_simple/test/"
      ],
      "metadata": {
        "id": "jA2LTS79E-Jg"
      },
      "execution_count": 5,
      "outputs": []
    },
    {
      "cell_type": "code",
      "execution_count": 6,
      "metadata": {
        "id": "V01ssAeS0gUh"
      },
      "outputs": [],
      "source": [
        "%%capture\n",
        "!unzip \"/content/drive/My Drive/Ilmenau/tusimple/train_set.zip\" -d \"/tmp/tu_simple/train/\""
      ]
    },
    {
      "cell_type": "code",
      "source": [
        "%%capture\n",
        "!unrar x -Y \"/content/drive/My Drive/Ilmenau/dataset.rar\" \"/tmp/\""
      ],
      "metadata": {
        "id": "MiZkR-h79l64"
      },
      "execution_count": 7,
      "outputs": []
    },
    {
      "cell_type": "code",
      "source": [
        "%%capture\n",
        "!unzip \"/content/drive/My Drive/Ilmenau/tusimple/test_set.zip\" -d \"/tmp/tu_simple/test/\""
      ],
      "metadata": {
        "id": "Zy3zs09AMhw-"
      },
      "execution_count": 8,
      "outputs": []
    },
    {
      "cell_type": "code",
      "execution_count": 19,
      "metadata": {
        "id": "tQ4fGdiu0t9a"
      },
      "outputs": [],
      "source": [
        "INPUT_SHAPE = (256, 256, 1)\n",
        "FINAL_WIDTH=INPUT_SHAPE[0]\n",
        "FINAL_HEIGHT=INPUT_SHAPE[1]\n",
        "FINAL_SHAPE = (INPUT_SHAPE[0],INPUT_SHAPE[1])\n",
        "BATCH_SIZE = 16\n",
        "VALIDATION_SPLIT = 0.1\n",
        "MAX_LINES_PER_FRAME = 2\n",
        "MAX_NUM_POINTS =  31\n",
        "NUM_TYPE_OF_LINES = 5\n",
        "SLICE_COEFFICIENT = 3\n",
        "\n",
        "MODEL_NAME = f'common-cnn-polyline-recognition-{INPUT_SHAPE[0]}x{INPUT_SHAPE[1]}-shape'"
      ]
    },
    {
      "cell_type": "code",
      "execution_count": 10,
      "metadata": {
        "id": "ohqNf-zj1zre",
        "colab": {
          "base_uri": "https://localhost:8080/"
        },
        "outputId": "7efba513-d06d-4acd-e8ac-22b5cfa991bb"
      },
      "outputs": [
        {
          "output_type": "stream",
          "name": "stdout",
          "text": [
            "test  train\n"
          ]
        }
      ],
      "source": [
        "!ls /tmp/tu_simple/"
      ]
    },
    {
      "cell_type": "code",
      "execution_count": 11,
      "metadata": {
        "id": "uuZdgk7R1tkP",
        "colab": {
          "base_uri": "https://localhost:8080/"
        },
        "outputId": "66eb25cf-56e3-4d8f-bcb4-8c8b52f16393"
      },
      "outputs": [
        {
          "output_type": "stream",
          "name": "stdout",
          "text": [
            "/tmp/tu_simple/train\n",
            "/tmp/tu_simple/test\n",
            "----\n",
            "/tmp/tu_simple/train/hdf5\n",
            "/tmp/tu_simple/test/hdf5\n",
            "/content/drive/My Drive/Ilmenau/tusimple/train_label_data_joined.json\n",
            "/content/drive/My Drive/Ilmenau/tusimple/test_label_data_joined.json\n",
            "----\n",
            "/tmp/dataset/VIL100/JPEGImages/\n",
            "/tmp/dataset/VIL100/Json/\n",
            "/tmp/dataset/VIL100/hdf5/\n"
          ]
        }
      ],
      "source": [
        "TU_SIMPLE_FRAME_TRAIN_DATASET_PATH=\"/tmp/tu_simple/train\"\n",
        "TU_SIMPLE_FRAME_TEST_DATASET_PATH=\"/tmp/tu_simple/test\"\n",
        "\n",
        "TU_SIMPLE_JSON_HDF5_TRAIN_DATASET_PATH=\"/tmp/tu_simple/train/hdf5\"\n",
        "TU_SIMPLE_JSON_HDF5_TEST_DATASET_PATH=\"/tmp/tu_simple/test/hdf5\"\n",
        "\n",
        "TU_SIMPLE_TRAIN_JSON_PATH=\"/content/drive/My Drive/Ilmenau/tusimple/train_label_data_joined.json\"\n",
        "TU_SIMPLE_TEST_JSON_PATH=\"/content/drive/My Drive/Ilmenau/tusimple/test_label_data_joined.json\"\n",
        "\n",
        "\n",
        "VIL_100_BASE_DIR = \"/tmp/dataset/VIL100/\"\n",
        "VIL_100_IMAGE_PATH = VIL_100_BASE_DIR + \"JPEGImages/\"\n",
        "VIL_100_JSON_PATH = VIL_100_BASE_DIR + \"Json/\"\n",
        "VIL_100_JSON_HDF5_DATASET_PATH = VIL_100_BASE_DIR + \"hdf5/\"\n",
        "\n",
        "print(TU_SIMPLE_FRAME_TRAIN_DATASET_PATH)\n",
        "print(TU_SIMPLE_FRAME_TEST_DATASET_PATH)\n",
        "print('----')\n",
        "print(TU_SIMPLE_JSON_HDF5_TRAIN_DATASET_PATH)\n",
        "print(TU_SIMPLE_JSON_HDF5_TEST_DATASET_PATH)\n",
        "\n",
        "print(TU_SIMPLE_TRAIN_JSON_PATH)\n",
        "print(TU_SIMPLE_TEST_JSON_PATH)\n",
        "print('----')\n",
        "print(VIL_100_IMAGE_PATH)\n",
        "print(VIL_100_JSON_PATH)\n",
        "print(VIL_100_JSON_HDF5_DATASET_PATH)"
      ]
    },
    {
      "cell_type": "code",
      "execution_count": 12,
      "metadata": {
        "id": "VwoxDWgw2brW"
      },
      "outputs": [],
      "source": [
        "tu_simple_frame_train_glob_path = TU_SIMPLE_FRAME_TRAIN_DATASET_PATH + '/clips/*/*/*20.jpg'\n",
        "tu_simple_frame_test_glob_path = TU_SIMPLE_FRAME_TEST_DATASET_PATH + '/clips/*/*/*20.jpg'\n",
        "tu_simple_json_hdf5_train_glob_path = TU_SIMPLE_JSON_HDF5_TRAIN_DATASET_PATH + '/clips/*/*/*20.jpg.hdf5'\n",
        "tu_simple_json_hdf5_test_glob_path = TU_SIMPLE_JSON_HDF5_TEST_DATASET_PATH + '/clips/*/*/*20.jpg.hdf5'\n",
        "\n",
        "\n",
        "vil_100_frame_glob_path = VIL_100_IMAGE_PATH+'*/*.jpg'\n",
        "vil_100_json_glob_path = VIL_100_JSON_PATH + '*/*.json'\n",
        "\n",
        "vil_100_json_hdf5_glob_path = VIL_100_JSON_HDF5_DATASET_PATH+'/*/*.hdf5'"
      ]
    },
    {
      "cell_type": "code",
      "execution_count": 13,
      "metadata": {
        "id": "rijV8Fvx4D3-",
        "colab": {
          "base_uri": "https://localhost:8080/"
        },
        "outputId": "c2ecbe79-7a24-4c0b-8483-6249cde51a38"
      },
      "outputs": [
        {
          "output_type": "stream",
          "name": "stdout",
          "text": [
            "/tmp/tu_simple/train/clips/*/*/*20.jpg\n",
            "/tmp/tu_simple/test/clips/*/*/*20.jpg\n",
            "/tmp/tu_simple/train/hdf5/clips/*/*/*20.jpg.hdf5\n",
            "/tmp/tu_simple/test/hdf5/clips/*/*/*20.jpg.hdf5\n",
            "/tmp/dataset/VIL100/JPEGImages/*/*.jpg\n",
            "/tmp/dataset/VIL100/Json/*/*.json\n"
          ]
        }
      ],
      "source": [
        "print(tu_simple_frame_train_glob_path)\n",
        "print(tu_simple_frame_test_glob_path)\n",
        "print(tu_simple_json_hdf5_train_glob_path)\n",
        "print(tu_simple_json_hdf5_test_glob_path)\n",
        "\n",
        "\n",
        "print(vil_100_frame_glob_path)\n",
        "print(vil_100_json_glob_path)\n"
      ]
    },
    {
      "cell_type": "markdown",
      "source": [
        "### Utils"
      ],
      "metadata": {
        "id": "nt1_DqOwidZC"
      }
    },
    {
      "cell_type": "code",
      "execution_count": 223,
      "metadata": {
        "id": "B_1EaIbn4Ing"
      },
      "outputs": [],
      "source": [
        "class Color(NamedTuple):\n",
        "    red = (255, 0, 0)\n",
        "    green = (0, 255, 0)\n",
        "    blue = (0, 0, 255)\n",
        "    purple = (255, 0, 255)\n",
        "    yellow = (255, 255, 0)\n",
        "\n",
        "    sequence = [red, green, blue, purple, yellow]\n",
        "\n",
        "\n",
        "class TuSimpleJson:\n",
        "    frame_path = 'raw_file'\n",
        "    lane_widths = 'lanes'\n",
        "    lane_heights = 'h_samples'\n",
        "\n",
        "\n",
        "class Vil100Json:\n",
        "    ANNOTATIONS = 'annotations'\n",
        "    # Annotations\n",
        "    ATTRIBUTE = 'attribute'\n",
        "    LANE = 'lane'\n",
        "    LANE_ID = 'lane_id'\n",
        "    POINTS = 'points'\n",
        "\n",
        "    INFO = 'info'\n",
        "    # Info\n",
        "    IMAGE_PATH = 'image_path'\n",
        "    HEIGHT = 'height'\n",
        "    WIDTH = 'width'\n",
        "\n",
        "\n",
        "class LaneLineRecognitionHDF5:\n",
        "    root_folder = 'hdf5'\n",
        "    group_name = 'frame_polylines_labels'\n",
        "    polyline_widths_dataset_name = 'polyline_widths'\n",
        "    polyline_heights_dataset_name = 'polyline_heights'\n",
        "    labels_dataset_name = 'labels'\n",
        "\n",
        "LANE_ID_FULL_LIST = set(range(1, 10))\n",
        "\n",
        "class VIL100Attribute:\n",
        "    \"\"\"Lane Attribute id (type lane) in jsons\"\"\"\n",
        "    SINGLE_WHITE_SOLID = 1\n",
        "    SINGLE_WHITE_DOTTED = 2\n",
        "    SINGLE_YELLOW_SOLID = 3\n",
        "    SINGLE_YELLOW_DOTTED = 4\n",
        "    DOUBLE_WHITE_SOLID = 5\n",
        "    DOUBLE_YELLOW_SOLID = 7\n",
        "    DOUBLE_YELLOW_DOTTED = 8\n",
        "    DOUBLE_WHITE_SOLID_DOTTED = 9\n",
        "    DOUBLE_WHITE_DOTTED_SOLID = 10\n",
        "    DOUBLE_SOLID_WHITE_AND_YELLOW = 13\n",
        "\n",
        "\n",
        "class LineType:\n",
        "    \"\"\"Type lane in our task\"\"\"\n",
        "    NO_LINE = 0\n",
        "    SINGLE_WHITE_SOLID = 1\n",
        "    SINGLE_WHITE_DOTTED = 2\n",
        "    OTHER_LINE = 3\n",
        "\n",
        "    ALL_LINES = {NO_LINE, SINGLE_WHITE_SOLID, SINGLE_WHITE_DOTTED, OTHER_LINE}\n",
        "\n",
        "\n",
        "VIL_100_colour_line = {\n",
        "    LineType.SINGLE_WHITE_SOLID: (255, 0, 0),\n",
        "    LineType.SINGLE_WHITE_DOTTED: (0, 255, 0),\n",
        "    LineType.OTHER_LINE: (0, 0, 255),\n",
        "    # 4: (255, 255, 0),  # single yellow dotted\n",
        "    # 5: (255, 0, 0),  # double white solid\n",
        "    # 6: (255, 125, 0),  # double yellow solid\n",
        "    # 7: (255, 255, 0),  # double yellow dotted\n",
        "    # 8: (255, 0, 0),  # double white solid dotted\n",
        "    # 9: (255, 0, 0),  # double white dotted solid\n",
        "    # 10: (255, 0, 0),  # double solid white and yellow\n",
        "}\n",
        "\n",
        "\n",
        "def get_valid_attribute(attr: int) -> int:\n",
        "    \"\"\"Change attribute from VIL100_dataset dataset to normal number without missings\"\"\"\n",
        "    _VIL_100_attributes = {\n",
        "        LineType.NO_LINE: LineType.NO_LINE,\n",
        "        VIL100Attribute.SINGLE_WHITE_SOLID: LineType.SINGLE_WHITE_SOLID,\n",
        "        VIL100Attribute.SINGLE_WHITE_DOTTED: LineType.SINGLE_WHITE_DOTTED,\n",
        "        VIL100Attribute.SINGLE_YELLOW_SOLID: LineType.SINGLE_WHITE_SOLID,\n",
        "        VIL100Attribute.SINGLE_YELLOW_DOTTED: LineType.SINGLE_WHITE_DOTTED,\n",
        "        VIL100Attribute.DOUBLE_WHITE_SOLID: LineType.OTHER_LINE,\n",
        "        VIL100Attribute.DOUBLE_YELLOW_SOLID: LineType.OTHER_LINE,\n",
        "        VIL100Attribute.DOUBLE_YELLOW_DOTTED: LineType.OTHER_LINE,\n",
        "        VIL100Attribute.DOUBLE_WHITE_SOLID_DOTTED: LineType.OTHER_LINE,\n",
        "        VIL100Attribute.DOUBLE_WHITE_DOTTED_SOLID: LineType.OTHER_LINE,\n",
        "        VIL100Attribute.DOUBLE_SOLID_WHITE_AND_YELLOW: LineType.OTHER_LINE,\n",
        "    }\n",
        "    return _VIL_100_attributes.get(attr, LineType.NO_LINE)\n",
        "\n",
        "def get_colour_from_one_hot_vector(vector: np.ndarray) -> Tuple[int, int, int]:\n",
        "    \"\"\"Get colour from one hot vector\"\"\"\n",
        "    return VIL_100_colour_line.get(int(np.argmax(vector, axis=1)), None)\n",
        "\n",
        "\n",
        "def one_hot_list_encoder(target_class_idx: int, num_classes: int) -> np.ndarray:\n",
        "    \"\"\"One-hot list encoder\"\"\"\n",
        "    target_vector = np.zeros(num_classes)\n",
        "    target_vector[target_class_idx] = 1\n",
        "    return target_vector"
      ]
    },
    {
      "cell_type": "markdown",
      "source": [
        "### Json converter"
      ],
      "metadata": {
        "id": "aOLTPqsUigR-"
      }
    },
    {
      "cell_type": "code",
      "execution_count": 15,
      "metadata": {
        "id": "irEWzhh04owK"
      },
      "outputs": [],
      "source": [
        "from abc import ABCMeta, abstractmethod\n",
        "\n",
        "\n",
        "class AbstractConverter(metaclass=ABCMeta):\n",
        "    @abstractmethod\n",
        "    def get_data_from_file(self, json_path: str):\n",
        "        raise NotImplementedError\n",
        "\n",
        "    @abstractmethod\n",
        "    def exec(self):\n",
        "        raise NotImplementedError\n"
      ]
    },
    {
      "cell_type": "markdown",
      "source": [
        "### TuSImple json converter"
      ],
      "metadata": {
        "id": "BNcF33kPilYS"
      }
    },
    {
      "cell_type": "code",
      "execution_count": 16,
      "metadata": {
        "id": "kzO_5kyy4T6E"
      },
      "outputs": [],
      "source": [
        "class TuSimpleJsonConverter(AbstractConverter):\n",
        "    def __init__(self,\n",
        "                 max_lines_per_frame: int,\n",
        "                 max_num_points: int,\n",
        "                 json_file_path: str,\n",
        "                 final_shape_to_convert: Tuple[int, int],\n",
        "                 frame_dataset_path: str,\n",
        "                 final_binary_json_path: str,\n",
        "                 slice_coefficient: int,\n",
        "                 ):\n",
        "        self.max_lines_per_frame = max_lines_per_frame\n",
        "        self.max_num_points = max_num_points\n",
        "        self.json_file = json_file_path\n",
        "        self.frame_dataset_path = frame_dataset_path\n",
        "        self.final_shape_to_convert = final_shape_to_convert\n",
        "        self.TU_SIMPLE_EXPECTED_SHAPE = (1280, 720)\n",
        "        self.final_binary_json_path = final_binary_json_path\n",
        "        self.slice_coefficient = slice_coefficient\n",
        "\n",
        "        log.debug(f'TuSimpleJsonConverter params: {locals()}')\n",
        "\n",
        "    def _verify_frame_shape(self, frame_path: np.ndarray) -> Tuple[int, int]:\n",
        "        \"\"\"Check that each frame has same expected shape\"\"\"\n",
        "        frame = cv2.imread(frame_path)\n",
        "        if frame is None:\n",
        "            log.warning(f'Frame not found. Frame path: {frame_path}.')\n",
        "            raise FileNotFoundError\n",
        "\n",
        "        height, width = frame.shape[0], frame.shape[1]\n",
        "        if self.TU_SIMPLE_EXPECTED_SHAPE[0] != width or \\\n",
        "                self.TU_SIMPLE_EXPECTED_SHAPE[1] != height:\n",
        "            log.warning('Shape of frame and expected is not equal! '\n",
        "                        f'Real shape:{width}x{height}')\n",
        "            raise ValueError('Shape of frame and expected is not equal! '\n",
        "                             f'Real shape:{width}x{height}')\n",
        "        return width, height\n",
        "\n",
        "    def __transform_widths(self, original_width: int, polyline_widths: np.ndarray):\n",
        "        \"\"\"Scale widths data\"\"\"\n",
        "        polyline_widths = np.where(\n",
        "            polyline_widths > 0,\n",
        "            polyline_widths / original_width,\n",
        "            polyline_widths\n",
        "        )\n",
        "        polyline_widths = np.where(polyline_widths == -2, -1, polyline_widths)\n",
        "        polyline_widths = np.apply_along_axis(\n",
        "            func1d=np.pad,\n",
        "            axis=1,\n",
        "            arr=polyline_widths,\n",
        "            pad_width=(0, self.max_num_points * self.slice_coefficient - polyline_widths.shape[1]),\n",
        "            mode='constant',\n",
        "            constant_values=(-1,)\n",
        "        )\n",
        "\n",
        "        # TODO @Karim: refactor if condition\n",
        "        if self.max_lines_per_frame - polyline_widths.shape[0]:\n",
        "            polyline_widths = polyline_widths[:self.max_lines_per_frame]\n",
        "\n",
        "        polyline_widths = polyline_widths[:, ::self.slice_coefficient]\n",
        "        empty_polylines = np.full(shape=((self.max_lines_per_frame - polyline_widths.shape[0]) * self.max_num_points),\n",
        "                                  fill_value=-1)\n",
        "        return np.hstack([polyline_widths.flatten(), empty_polylines])\n",
        "\n",
        "    def __transform_heights(self, original_height: int, polyline_heights: np.ndarray) -> np.ndarray:\n",
        "        \"\"\"Scale heights data\"\"\"\n",
        "        polyline_heights = np.where(\n",
        "            polyline_heights > 0,\n",
        "            polyline_heights / original_height,\n",
        "            polyline_heights\n",
        "        )\n",
        "        polyline_heights = np.pad(\n",
        "            polyline_heights,\n",
        "            pad_width=(\n",
        "                0, self.max_num_points * self.slice_coefficient - polyline_heights.shape[0]),\n",
        "            mode='constant',\n",
        "            constant_values=(-1,)\n",
        "        )\n",
        "        polyline_heights = polyline_heights[::self.slice_coefficient]\n",
        "        return np.tile(polyline_heights, self.max_lines_per_frame)\n",
        "\n",
        "    def transform_polylines(self, original_width: int, original_height: int,\n",
        "                            polyline_widths: np.ndarray, polyline_heights: np.ndarray) -> Tuple[np.ndarray, np.ndarray]:\n",
        "        \"\"\"Scale polygonal chains: divide and standardize dataset for NN input\n",
        "        :param original_width: initial frame width\n",
        "        :param original_height:initial frame height\n",
        "        :param polyline_widths: polygonal widths\n",
        "        :param polyline_heights: polygonal heights\n",
        "        :return: scaled and prepared polygonal widths and heights\n",
        "        \"\"\"\n",
        "        # TODO @Karim: check adding -1 at the start of each array!!!\n",
        "        polyline_widths = self.__transform_widths(original_width=original_width, polyline_widths=polyline_widths)\n",
        "        polyline_heights = self.__transform_heights(original_height=original_height, polyline_heights=polyline_heights)\n",
        "        return polyline_widths, polyline_heights\n",
        "\n",
        "    def get_polylines_from_json_line(self, line: str) -> Tuple[str, np.ndarray, np.ndarray]:\n",
        "        \"\"\"Retrieve polygonal chains from json file\"\"\"\n",
        "        json_line = json.loads(line)\n",
        "        frame_path = json_line.pop(TuSimpleJson.frame_path)\n",
        "        frame_full_path = self.frame_dataset_path + '/' + frame_path\n",
        "        width, height = self._verify_frame_shape(frame_full_path)\n",
        "        lane_widths, lane_heights = self.transform_polylines(\n",
        "            original_width=width,\n",
        "            original_height=height,\n",
        "            polyline_widths=np.array(json_line[TuSimpleJson.lane_widths]),\n",
        "            polyline_heights=np.array(json_line[TuSimpleJson.lane_heights])\n",
        "        )\n",
        "        return frame_path, lane_widths, lane_heights\n",
        "\n",
        "    def get_data_from_file(self, json_path: str):\n",
        "        \"\"\"Read json line by line\"\"\"\n",
        "        # TODO @Karim: investigate and decide to add labels\n",
        "        with open(json_path, 'r') as f:\n",
        "            for json_frame_data_line in f.readlines():\n",
        "                yield self.get_polylines_from_json_line(json_frame_data_line)\n",
        "\n",
        "    def exec(self):\n",
        "        for frame_path, polylines_width, polylines_height in self.get_data_from_file(self.json_file):\n",
        "            full_path = self.final_binary_json_path + '/' + '/'.join(frame_path.split('/')[:-1])\n",
        "            Path(full_path).mkdir(parents=True, exist_ok=True)\n",
        "\n",
        "            with h5py.File(f\"{self.final_binary_json_path}/{frame_path}.hdf5\", \"w\") as f:\n",
        "                grp = f.create_group(LaneLineRecognitionHDF5.group_name)\n",
        "                grp.create_dataset(LaneLineRecognitionHDF5.polyline_widths_dataset_name, data=polylines_width,\n",
        "                                   dtype='float32')\n",
        "                grp.create_dataset(LaneLineRecognitionHDF5.polyline_heights_dataset_name, data=polylines_height,\n",
        "                                   dtype='float32')\n"
      ]
    },
    {
      "cell_type": "code",
      "execution_count": 20,
      "metadata": {
        "id": "f-DsZzvX4ld8",
        "colab": {
          "base_uri": "https://localhost:8080/"
        },
        "outputId": "cbfdbd98-d34a-4702-f56f-e87f60fb6ab0"
      },
      "outputs": [
        {
          "output_type": "stream",
          "name": "stderr",
          "text": [
            "[2022-02-22 15:50:48,808] [DEBUG] [__init__] TuSimpleJsonConverter params: {'self': <__main__.TuSimpleJsonConverter object at 0x7f236539cb50>, 'max_lines_per_frame': 2, 'max_num_points': 31, 'json_file_path': '/content/drive/My Drive/Ilmenau/tusimple/train_label_data_joined.json', 'final_shape_to_convert': (256, 256), 'frame_dataset_path': '/tmp/tu_simple/train', 'final_binary_json_path': '/tmp/tu_simple/train/hdf5', 'slice_coefficient': 3}\n",
            "[2022-02-22 15:50:48,809] [DEBUG] [__init__] TuSimpleJsonConverter params: {'self': <__main__.TuSimpleJsonConverter object at 0x7f236539c1d0>, 'max_lines_per_frame': 2, 'max_num_points': 31, 'json_file_path': '/content/drive/My Drive/Ilmenau/tusimple/test_label_data_joined.json', 'final_shape_to_convert': (256, 256), 'frame_dataset_path': '/tmp/tu_simple/test', 'final_binary_json_path': '/tmp/tu_simple/test/hdf5', 'slice_coefficient': 3}\n"
          ]
        }
      ],
      "source": [
        "tu_simple_train_converter = TuSimpleJsonConverter(\n",
        "    max_lines_per_frame=MAX_LINES_PER_FRAME,\n",
        "    max_num_points=MAX_NUM_POINTS,\n",
        "    json_file_path=TU_SIMPLE_TRAIN_JSON_PATH,\n",
        "    final_shape_to_convert=(FINAL_WIDTH, FINAL_HEIGHT),\n",
        "    frame_dataset_path=TU_SIMPLE_FRAME_TRAIN_DATASET_PATH,\n",
        "    final_binary_json_path=TU_SIMPLE_JSON_HDF5_TRAIN_DATASET_PATH,\n",
        "    slice_coefficient = SLICE_COEFFICIENT,\n",
        ")\n",
        "\n",
        "tu_simple_test_converter = TuSimpleJsonConverter(\n",
        "    max_lines_per_frame=MAX_LINES_PER_FRAME,\n",
        "    max_num_points=MAX_NUM_POINTS,\n",
        "    json_file_path=TU_SIMPLE_TEST_JSON_PATH,\n",
        "    final_shape_to_convert=(FINAL_WIDTH, FINAL_HEIGHT),\n",
        "    frame_dataset_path=TU_SIMPLE_FRAME_TEST_DATASET_PATH,\n",
        "    final_binary_json_path=TU_SIMPLE_JSON_HDF5_TEST_DATASET_PATH,\n",
        "    slice_coefficient = SLICE_COEFFICIENT,\n",
        "\n",
        ")"
      ]
    },
    {
      "cell_type": "code",
      "execution_count": 21,
      "metadata": {
        "id": "89p2ksNg4vLj"
      },
      "outputs": [],
      "source": [
        "tu_simple_train_converter.exec()"
      ]
    },
    {
      "cell_type": "code",
      "source": [
        "tu_simple_test_converter.exec()"
      ],
      "metadata": {
        "id": "QQH6UIxBHrwS"
      },
      "execution_count": 22,
      "outputs": []
    },
    {
      "cell_type": "markdown",
      "source": [
        "### VIL100 json converter"
      ],
      "metadata": {
        "id": "3BAEpKDjipo6"
      }
    },
    {
      "cell_type": "code",
      "source": [
        "class JsonReviewer:\n",
        "    def __init__(self, json_glob_path: str, frame_dataset_path: str):\n",
        "        self.json_glob_path = sorted(glob.glob(json_glob_path))\n",
        "        self.frame_dataset_path = frame_dataset_path\n",
        "\n",
        "    @staticmethod\n",
        "    def fix_json_file(json_file: Dict[str, Union[str, int]], frame_real_height: int, frame_real_width: int,\n",
        "                      frame_path: str) -> Dict[str, Union[str, int]]:\n",
        "        if json_file[Vil100Json.INFO][Vil100Json.HEIGHT] != frame_real_height or \\\n",
        "                json_file[Vil100Json.INFO][Vil100Json.WIDTH] != frame_real_width:\n",
        "            # log.debug(f'Different resolution! File name: `{frame_path}`.')\n",
        "            json_file[Vil100Json.INFO][Vil100Json.HEIGHT] = frame_real_height\n",
        "            json_file[Vil100Json.INFO][Vil100Json.WIDTH] = frame_real_width\n",
        "\n",
        "        return json_file\n",
        "\n",
        "    def exec(self):\n",
        "        for json_file_path in self.json_glob_path:\n",
        "            # TODO: check open format\n",
        "            with open(json_file_path, 'r+') as f:\n",
        "                json_file = json.load(f)\n",
        "                image_path = json_file[Vil100Json.INFO][Vil100Json.IMAGE_PATH]\n",
        "                full_path = self.frame_dataset_path + '/' + image_path\n",
        "                frame = cv2.imread(full_path)\n",
        "                height, width = frame.shape[0], frame.shape[1]\n",
        "\n",
        "                json_file = self.fix_json_file(json_file, height, width, image_path)\n",
        "\n",
        "                f.seek(0)\n",
        "                json.dump(json_file, f)\n",
        "                f.truncate()"
      ],
      "metadata": {
        "id": "M8MoQwTiAMAt"
      },
      "execution_count": 23,
      "outputs": []
    },
    {
      "cell_type": "code",
      "source": [
        "polyline_width_type = np.ndarray\n",
        "polyline_height_type = np.ndarray\n",
        "labels_type = np.ndarray\n",
        "Lane_type = List[Dict[str, int]]\n",
        "\n",
        "class VIL100JsonConverter(AbstractConverter):\n",
        "    def __init__(self,\n",
        "                 max_lines_per_frame: int,\n",
        "                 max_num_points: int,\n",
        "                 num_type_of_lines: int,\n",
        "                 json_glob_path: str,\n",
        "                 final_shape: Tuple[int, int],\n",
        "                 frame_dataset_path: str,\n",
        "                 slice_coefficient: int,\n",
        "                 ):\n",
        "\n",
        "        self.max_lines_per_frame = max_lines_per_frame\n",
        "        self.max_num_points = max_num_points\n",
        "        self.num_type_of_lines = num_type_of_lines\n",
        "        self.json_files = sorted(glob.glob(json_glob_path))\n",
        "        self.files_count = len(self.json_files)\n",
        "        self.frame_dataset_path = frame_dataset_path\n",
        "        self.final_shape = final_shape\n",
        "        self.slice_coefficient = slice_coefficient\n",
        "\n",
        "        log.debug(f'VIL100JsonConverter params:\\n{locals()}')\n",
        "\n",
        "    @staticmethod\n",
        "    def __rescale_coordinates(row: np.ndarray, initial_width: int, initial_height: int) -> np.ndarray:\n",
        "        return row[0] / initial_width, row[1] / initial_height\n",
        "\n",
        "    def __rescale_polylines(self, polylines: np.ndarray, initial_width: int, initial_height: int) -> np.ndarray:\n",
        "        \"\"\"Rescale coordinates due to new frame resolution\"\"\"\n",
        "        return np.apply_along_axis(self.__rescale_coordinates, axis=1, arr=polylines,\n",
        "                                   initial_width=initial_width,\n",
        "                                   initial_height=initial_height\n",
        "                                   )\n",
        "\n",
        "    def __get_polyline_with_label(self, lane: dict, initial_width: int, initial_height: int) \\\n",
        "            -> Tuple[Tuple[polyline_width_type, polyline_height_type], labels_type]:\n",
        "        \"\"\"Get array from points list\"\"\"\n",
        "        points = np.array(\n",
        "            lane[Vil100Json.POINTS])  # todo: fix\n",
        "        # widths, height = np.split(points, 2, axis=1)\n",
        "        points = self.__rescale_polylines(points, initial_width=initial_width, initial_height=initial_height).flatten()\n",
        "        points = np.pad(points, pad_width=(0, self.max_num_points * self.slice_coefficient * 2 - points.shape[0]),\n",
        "                        mode='constant', constant_values=(-1,))\n",
        "        points = tuple(np.split(points.reshape(-1, 2), 2, axis=1))\n",
        "        polyline_widths, polyline_heights = points[0].flatten(), points[1].flatten()\n",
        "\n",
        "        polyline_widths = polyline_widths[0::self.slice_coefficient]\n",
        "        polyline_heights = polyline_heights[0::self.slice_coefficient]\n",
        "\n",
        "        # TODO @Karim: remember below `label.get(label)` is index 1,2,3,4\n",
        "        label = get_valid_attribute(lane.get(Vil100Json.ATTRIBUTE, LineType.NO_LINE))\n",
        "        labels = one_hot_list_encoder(label, self.num_type_of_lines)\n",
        "        return (polyline_widths, polyline_heights), labels\n",
        "\n",
        "    @staticmethod\n",
        "    def _get_frame_shape(frame_path: np.ndarray) -> Tuple[int, int]:\n",
        "        \"\"\"Check that each frame has same expected shape\"\"\"\n",
        "        frame = cv2.imread(frame_path)\n",
        "        height, width = frame.shape[0], frame.shape[1]\n",
        "        return width, height\n",
        "\n",
        "    def get_data_from_file(self, json_path: str) -> Tuple[Tuple[polyline_width_type, polyline_height_type], np.ndarray]:\n",
        "        \"\"\"\n",
        "        Retrieve from json file polylines and labels and format to nn input\n",
        "\n",
        "        :param json_path: json file path\n",
        "        :return: frame and tuple of labels\n",
        "        \"\"\"\n",
        "        with open(json_path) as f:\n",
        "            json_file: Dict[str, Union[int, dict]] = json.load(f)\n",
        "\n",
        "        image_path = json_file[Vil100Json.INFO][Vil100Json.IMAGE_PATH]\n",
        "        full_frame_path = self.frame_dataset_path + '/' + image_path\n",
        "        width, height = self._get_frame_shape(frame_path=full_frame_path)\n",
        "\n",
        "        json_file = JsonReviewer.fix_json_file(\n",
        "            json_file=json_file,\n",
        "            frame_real_height=height,\n",
        "            frame_real_width=width,\n",
        "            frame_path=image_path,\n",
        "        )\n",
        "\n",
        "        lanes: Lane_type = json_file[Vil100Json.ANNOTATIONS][Vil100Json.LANE]\n",
        "        lanes = sorted(lanes, key=lambda lane: lane[Vil100Json.LANE_ID])\n",
        "\n",
        "        polyline_widths_output = np.empty(shape=(0, self.max_num_points)),\n",
        "        polyline_heights_output = np.empty(shape=(0, self.max_num_points))\n",
        "        labels_output = np.empty(shape=(0, self.num_type_of_lines))\n",
        "\n",
        "        exist_lane = [x[Vil100Json.LANE_ID] for x in lanes]\n",
        "        missed_lane = LANE_ID_FULL_LIST - set(exist_lane)\n",
        "\n",
        "        for lane_id in range(1, self.max_lines_per_frame + 1):\n",
        "            if lane_id in missed_lane:\n",
        "                points: Tuple[polyline_width_type, polyline_height_type] = (\n",
        "                    np.full(shape=self.max_num_points, fill_value=-1),\n",
        "                    np.full(shape=self.max_num_points, fill_value=-1)\n",
        "                )\n",
        "                label = one_hot_list_encoder(LineType.NO_LINE, self.num_type_of_lines)\n",
        "            else:\n",
        "                points, label = self.__get_polyline_with_label(\n",
        "                    lane=lanes[exist_lane.index(lane_id)],\n",
        "                    initial_width=width,\n",
        "                    initial_height=height\n",
        "                )\n",
        "            polyline_widths, polyline_heights = points[0], points[1]\n",
        "            polyline_widths_output = np.append(polyline_widths_output, polyline_widths)\n",
        "            polyline_heights_output = np.append(polyline_heights_output, polyline_heights)\n",
        "            labels_output = np.append(labels_output, label)\n",
        "\n",
        "        return (polyline_widths_output, polyline_heights_output), labels_output\n",
        "\n",
        "    def exec(self) -> None:\n",
        "        \"\"\"Convert and save json files to new hdf5 files\"\"\"\n",
        "        for json_file_path in self.json_files:\n",
        "            polylines, labels = self.get_data_from_file(json_file_path)\n",
        "            polyline_widths, polyline_heights = polylines[0], polylines[1]\n",
        "            full_path_list = json_file_path.split('/')\n",
        "            full_path_list[-3] = LaneLineRecognitionHDF5.root_folder\n",
        "            root_path = full_path_list[:-1]\n",
        "            frame_name = full_path_list[-1]\n",
        "\n",
        "            Path(f\"{'/'.join(root_path)}\").mkdir(parents=True, exist_ok=True)\n",
        "\n",
        "            with h5py.File(f\"{'/'.join(root_path)}/{frame_name}.hdf5\", \"w\") as f:\n",
        "                grp = f.create_group(LaneLineRecognitionHDF5.group_name)\n",
        "                grp.create_dataset(LaneLineRecognitionHDF5.polyline_widths_dataset_name, data=polyline_widths,\n",
        "                                   dtype='float32')\n",
        "                grp.create_dataset(LaneLineRecognitionHDF5.polyline_heights_dataset_name, data=polyline_heights,\n",
        "                                   dtype='float32')\n",
        "                grp.create_dataset(LaneLineRecognitionHDF5.labels_dataset_name, data=labels, dtype='float32')\n"
      ],
      "metadata": {
        "id": "BMejjvxBADeR"
      },
      "execution_count": 24,
      "outputs": []
    },
    {
      "cell_type": "code",
      "source": [
        ""
      ],
      "metadata": {
        "id": "G1C3ouYfQx49"
      },
      "execution_count": 24,
      "outputs": []
    },
    {
      "cell_type": "code",
      "source": [
        "vil_100_converter = VIL100JsonConverter(\n",
        "        max_lines_per_frame=MAX_LINES_PER_FRAME,\n",
        "        max_num_points=MAX_NUM_POINTS,\n",
        "        num_type_of_lines=NUM_TYPE_OF_LINES,\n",
        "        json_glob_path=vil_100_json_glob_path,\n",
        "        final_shape=(INPUT_SHAPE[0],INPUT_SHAPE[1]),\n",
        "        frame_dataset_path=VIL_100_IMAGE_PATH,\n",
        "        slice_coefficient = SLICE_COEFFICIENT,\n",
        "\n",
        ")"
      ],
      "metadata": {
        "id": "TyvUTU7jAP-g",
        "colab": {
          "base_uri": "https://localhost:8080/"
        },
        "outputId": "1217ea97-44ba-49c8-b1b0-c672a854cd12"
      },
      "execution_count": 25,
      "outputs": [
        {
          "output_type": "stream",
          "name": "stderr",
          "text": [
            "[2022-02-22 15:52:21,789] [DEBUG] [__init__] VIL100JsonConverter params:\n",
            "{'self': <__main__.VIL100JsonConverter object at 0x7f236531e090>, 'max_lines_per_frame': 2, 'max_num_points': 31, 'num_type_of_lines': 5, 'json_glob_path': '/tmp/dataset/VIL100/Json/*/*.json', 'final_shape': (256, 256), 'frame_dataset_path': '/tmp/dataset/VIL100/JPEGImages/', 'slice_coefficient': 3}\n"
          ]
        }
      ]
    },
    {
      "cell_type": "code",
      "source": [
        "vil_100_converter.exec()"
      ],
      "metadata": {
        "id": "MMrFt_72AQjH"
      },
      "execution_count": 26,
      "outputs": []
    },
    {
      "cell_type": "markdown",
      "source": [
        "### Image generator"
      ],
      "metadata": {
        "id": "fMnTICa2iv-k"
      }
    },
    {
      "cell_type": "code",
      "execution_count": 124,
      "metadata": {
        "id": "t0CuC4Sx7zfy"
      },
      "outputs": [],
      "source": [
        "class AbstractFrameGenerator(metaclass=ABCMeta):\n",
        "\n",
        "    def __init__(self,\n",
        "                 num_type_of_lines,\n",
        "                 max_lines_per_frame,\n",
        "                 max_num_points,\n",
        "                 batch_size: int,\n",
        "                 final_shape: Tuple[int, int],\n",
        "                 shuffle: bool,\n",
        "                 files: Optional[List[str]],\n",
        "                 json_files: Optional[List[str]],\n",
        "                 rescale=1 / 255.,\n",
        "                 color_mode: str = 'grayscale',\n",
        "                 ):\n",
        "        \"\"\"\n",
        "        :param max_lines_per_frame: maximum number of lines per frame\n",
        "        :param max_num_points: maximum number of points un one polyline\n",
        "        :param num_type_of_lines: number of possible lines on road\n",
        "        :param rescale:\n",
        "        :param batch_size: batch size of the dataset\n",
        "        :param final_shape: final size for NN input\n",
        "        :param shuffle: shuffle flag of frames sequences\n",
        "        :param color_mode: `grayscale` or `rgb` color reading frame mod\n",
        "        :param json_files: list of json files that contain info about a frame\n",
        "        \"\"\"\n",
        "        self.max_lines_per_frame = max_lines_per_frame\n",
        "        self.max_num_points = max_num_points\n",
        "        self.num_type_of_lines = num_type_of_lines\n",
        "        self.rescale = rescale\n",
        "        self.batch_size = batch_size\n",
        "        self.shuffle = shuffle\n",
        "        self.final_shape = final_shape\n",
        "        self.color_mode = color_mode\n",
        "        self.files = files\n",
        "        self.json_files = json_files\n",
        "        self.files_count = len(self.files)\n",
        "\n",
        "        if shuffle:\n",
        "            temp = list(zip(self.files, self.json_files))\n",
        "            random.shuffle(temp)\n",
        "            self.files, self.json_files = zip(*temp)\n",
        "\n",
        "    def __len__(self):\n",
        "        return math.ceil(self.files_count / self.batch_size)\n",
        "\n",
        "    @abstractmethod\n",
        "    def get_data_from_file(self, *args, **kwargs):\n",
        "        raise NotImplementedError\n",
        "\n",
        "    def get_frame_from_file(self, frame_path: str) -> np.ndarray:\n",
        "        img = cv2.imread(frame_path)\n",
        "        gray = cv2.cvtColor(img, cv2.COLOR_BGR2GRAY)\n",
        "        img_gaussian = cv2.GaussianBlur(gray,(3,3),0)\n",
        "        img_gaussian = cv2.resize(img_gaussian, (self.final_shape))\n",
        "        img_canny = cv2.Canny(img_gaussian, self.final_shape[0], self.final_shape[1])      \n",
        "        img = tf.keras.preprocessing.image.img_to_array(img_canny)\n",
        "        img = img * self.rescale\n",
        "        img = np.expand_dims(img, 0)\n",
        "        return img\n",
        "\n",
        "\n",
        "class AbstractFrameGeneratorCreator(metaclass=ABCMeta):\n",
        "    TRAINING = 'training'\n",
        "    VALIDATION = 'validation'\n",
        "\n",
        "    __reverse_dataset_type = {\n",
        "        TRAINING: VALIDATION,\n",
        "        VALIDATION: TRAINING\n",
        "    }\n",
        "    __dataset = {}\n",
        "\n",
        "    def __init__(self,\n",
        "                 validation_split: float,\n",
        "                 frame_glob_path: List[str],\n",
        "                 json_hdf5_glob_path: List[str]):\n",
        "        \"\"\"\n",
        "        :param validation_split: split for train/validation sets\n",
        "        :param frame_glob_path: glob pattern of frames\n",
        "        :param json_hdf5_glob_path: glob pattern path of jsons\n",
        "        \"\"\"\n",
        "        self.validation_split = validation_split\n",
        "        self.__frame_glob_path = frame_glob_path\n",
        "        self.__json_hdf5_glob_path = json_hdf5_glob_path\n",
        "\n",
        "    def preprocess_files(self, subset: str, number_files: Optional[int]) -> Tuple[List[str], List[str]]:\n",
        "        \"\"\"\n",
        "        Sort and validate files for further loading and sending to NN\n",
        "\n",
        "        :param subset: 'training' or 'validation'\n",
        "        :param number_files: restrict max number of files from dataset\n",
        "        :return: list of sorted and sliced files and json files\n",
        "        \"\"\"\n",
        "        log.debug(f'Generator params: {locals()}')\n",
        "\n",
        "        files = []\n",
        "        for glob_path in self.__frame_glob_path:\n",
        "          files.extend(glob.glob(glob_path))\n",
        "\n",
        "        log.info(\n",
        "            f\"Number of files in dataset: {len(files)}.\"\n",
        "            f\"Using in training/validation: {str(number_files) if number_files else 'all files'}\"\n",
        "        )\n",
        "\n",
        "        json_files = []\n",
        "        for glob_path in self.__json_hdf5_glob_path:\n",
        "          json_files.extend(glob.glob(glob_path))\n",
        "\n",
        "        if number_files:\n",
        "          files = files[:number_files]\n",
        "          json_files = json_files[:number_files]\n",
        "\n",
        "        files_count = len(files)\n",
        "        json_files_count = len(json_files)\n",
        "\n",
        "        if files_count != json_files_count:\n",
        "            log.error(f\"Dataset files error\"\n",
        "                      f\"Number of frames: ({files_count}). \"\n",
        "                      f\"Number of jsons({json_files_count}\")\n",
        "            raise FileNotFoundError(\n",
        "                f\"Numbers of frames and jsons are not equal!\")\n",
        "\n",
        "        if not self.__reverse_dataset_type.get(subset):\n",
        "            log.error(f'Wrong subset value: \"{subset}\"')\n",
        "            raise ValueError(f'Wrong type of subset - {subset}. '\n",
        "                             f'Available types: {self.__reverse_dataset_type.keys()}')\n",
        "\n",
        "        if self.validation_split and 0.0 < self.validation_split < 1.0:\n",
        "            split = int(files_count * (1 - self.validation_split))\n",
        "            if subset == self.TRAINING:\n",
        "                files = files[:split]\n",
        "                json_files = json_files[:split]\n",
        "            else:\n",
        "                files = files[split:]\n",
        "                json_files = json_files[split:]\n",
        "\n",
        "        return files, json_files\n",
        "\n",
        "    @abstractmethod\n",
        "    def get_generator(self) -> Type:\n",
        "        raise NotImplementedError\n",
        "\n",
        "    def flow_from_directory(self,\n",
        "                            subset: str,\n",
        "                            number_files: Optional[int]=None,\n",
        "                            *args, **kwargs) -> Callable:\n",
        "        files, json_files = self.preprocess_files(subset=subset,\n",
        "                                                  number_files=number_files)\n",
        "        return self.get_generator()(files=files,\n",
        "                                    json_files=json_files,\n",
        "                                    *args, **kwargs)\n"
      ]
    },
    {
      "cell_type": "code",
      "execution_count": 125,
      "metadata": {
        "id": "lW4hy01645H1"
      },
      "outputs": [],
      "source": [
        "Frame_ouput_type = np.ndarray\n",
        "Polylines_width_ouput_type = Tuple[np.ndarray, np.ndarray, np.ndarray, np.ndarray, np.ndarray,]\n",
        "Polylines_height_ouput_type = Tuple[np.ndarray]\n",
        "\n",
        "\n",
        "class PolylineFrameGenerator(AbstractFrameGenerator, Sequence):\n",
        "    \"\"\"Sequence of frames generator\n",
        "\n",
        "    Usage for training NN that could process independent\n",
        "    frames without context window etc\n",
        "    \"\"\"\n",
        "\n",
        "\n",
        "    def get_data_from_file(self, json_path: str) -> Tuple[np.ndarray, np.ndarray]:\n",
        "        \"\"\"\n",
        "        Get from hdf5 all line polygonal chains\n",
        "        :param json_path: path of json file\n",
        "        :return: polylines\n",
        "        \"\"\"\n",
        "        file = h5py.File(json_path, 'r')\n",
        "        group = file.get(LaneLineRecognitionHDF5.group_name)\n",
        "        return group.get(LaneLineRecognitionHDF5.polyline_widths_dataset_name), \\\n",
        "               group.get(LaneLineRecognitionHDF5.polyline_heights_dataset_name)\n",
        "\n",
        "    def __getitem__(self, idx) -> Tuple[np.ndarray, Tuple[np.ndarray, np.ndarray]]:\n",
        "        batch_frames_path = self.files[idx * self.batch_size:\n",
        "                                       (idx + 1) * self.batch_size]\n",
        "        batch_json_path = self.json_files[idx * self.batch_size:\n",
        "                                          (idx + 1) * self.batch_size]\n",
        "\n",
        "        polyline_width_output = np.empty(shape=(0, self.max_lines_per_frame * self.max_num_points))\n",
        "        polyline_height_output = np.empty(shape=(0, self.max_lines_per_frame * self.max_num_points))\n",
        "\n",
        "        frame_output = np.empty(shape=(0, self.final_shape[0], self.final_shape[1], 1))\n",
        "\n",
        "        for _frame, _json in zip(batch_frames_path, batch_json_path):\n",
        "            polylines = self.get_data_from_file(_json)\n",
        "            polyline_widths, polyline_heights = polylines[0], polylines[1]\n",
        "\n",
        "            polyline_width_output = np.vstack((polyline_width_output, polyline_widths))\n",
        "            polyline_height_output = np.vstack((polyline_height_output, polyline_heights))\n",
        "\n",
        "            frame = self.get_frame_from_file(_frame)\n",
        "            frame_output = np.vstack((frame_output, frame))\n",
        "\n",
        "        return frame_output, (polyline_width_output, polyline_height_output)\n",
        "\n",
        "\n",
        "class LaneLineFrameGeneratorCreator(AbstractFrameGeneratorCreator):\n",
        "\n",
        "    def get_generator(self) -> Type[Sequence]:\n",
        "        return PolylineFrameGenerator\n"
      ]
    },
    {
      "cell_type": "code",
      "execution_count": 303,
      "metadata": {
        "colab": {
          "base_uri": "https://localhost:8080/"
        },
        "id": "Y5OWaUUh7975",
        "outputId": "cc17f1e0-dd3a-4152-ef36-690468f43d58"
      },
      "outputs": [
        {
          "output_type": "stream",
          "name": "stderr",
          "text": [
            "[2022-02-22 18:43:48,406] [DEBUG] [preprocess_files] Generator params: {'self': <__main__.LaneLineFrameGeneratorCreator object at 0x7f22ca1b0710>, 'subset': 'training', 'number_files': None}\n",
            "[2022-02-22 18:43:48,670] [INFO] [preprocess_files] Number of files in dataset: 16408.Using in training/validation: all files\n",
            "[2022-02-22 18:43:48,827] [DEBUG] [preprocess_files] Generator params: {'self': <__main__.LaneLineFrameGeneratorCreator object at 0x7f22ca1b0710>, 'subset': 'validation', 'number_files': None}\n",
            "[2022-02-22 18:43:49,087] [INFO] [preprocess_files] Number of files in dataset: 16408.Using in training/validation: all files\n"
          ]
        }
      ],
      "source": [
        "data_gen = LaneLineFrameGeneratorCreator(\n",
        "    validation_split=0.2,\n",
        "    frame_glob_path=[\n",
        "      vil_100_frame_glob_path,\n",
        "      tu_simple_frame_train_glob_path,\n",
        "      tu_simple_frame_test_glob_path\n",
        "                     ],\n",
        "    json_hdf5_glob_path=[\n",
        "      vil_100_json_hdf5_glob_path,\n",
        "      tu_simple_json_hdf5_train_glob_path,\n",
        "      tu_simple_json_hdf5_test_glob_path\n",
        "    ],\n",
        ")\n",
        "\n",
        "train_generator = data_gen.flow_from_directory(\n",
        "    subset='training', shuffle=True, batch_size=BATCH_SIZE,\n",
        "    final_shape=FINAL_SHAPE,\n",
        "    max_lines_per_frame=MAX_LINES_PER_FRAME,\n",
        "    max_num_points=MAX_NUM_POINTS,\n",
        "    num_type_of_lines=NUM_TYPE_OF_LINES,\n",
        ")\n",
        "\n",
        "validation_generator = data_gen.flow_from_directory(\n",
        "    subset='validation', shuffle=True, batch_size=BATCH_SIZE,\n",
        "    final_shape=FINAL_SHAPE,\n",
        "    max_lines_per_frame=MAX_LINES_PER_FRAME,\n",
        "    max_num_points=MAX_NUM_POINTS,\n",
        "    num_type_of_lines=NUM_TYPE_OF_LINES,\n",
        ")"
      ]
    },
    {
      "cell_type": "code",
      "source": [
        "print(locals()['MAX_LINES_PER_FRAME'])\n",
        "print(locals()['MAX_NUM_POINTS'])"
      ],
      "metadata": {
        "colab": {
          "base_uri": "https://localhost:8080/"
        },
        "id": "AATuGftBvg7e",
        "outputId": "23d00054-fe35-4eee-ae47-b1a360edaae7"
      },
      "execution_count": 302,
      "outputs": [
        {
          "output_type": "stream",
          "name": "stdout",
          "text": [
            "2\n",
            "31\n"
          ]
        }
      ]
    },
    {
      "cell_type": "markdown",
      "source": [
        "### Generator utils"
      ],
      "metadata": {
        "id": "hEIWelh_qyGC"
      }
    },
    {
      "cell_type": "code",
      "source": [
        "def __filter_coordination_for_resolution(polyline: np.ndarray, input_shape: Tuple[int, int, int]) -> np.ndarray:\n",
        "    valid = ((polyline[:, 0] > 0) & (polyline[:, 1] > 0)\n",
        "             & (polyline[:, 0] < input_shape[0]) & (polyline[:, 1] < input_shape[1]))\n",
        "    return polyline[valid]\n",
        "\n",
        "\n",
        "def __filter_coordinates(list_of_polylines: List[np.ndarray]) -> np.ndarray:\n",
        "    \"\"\"Remove empty points and coordinates x or y, that is less than 0\"\"\"\n",
        "    list_of_polylines = list(map(lambda x: x.reshape(-1, 2), list_of_polylines))\n",
        "    return list(map(lambda polyline: __filter_coordination_for_resolution(polyline),\n",
        "                    list_of_polylines))\n",
        "\n",
        "\n",
        "def concat_polyline(polyline_width: np.ndarray, polyline_height: np.ndarray) -> np.ndarray:\n",
        "    return np.concatenate((polyline_width.reshape(-1, 1), polyline_height.reshape(-1, 1)), axis=1)\n",
        "\n",
        "\n",
        "def draw_polyline_in_frame(frame: np.ndarray, polylines: Tuple[np.ndarray, np.ndarray],\n",
        "                           thickness: int, max_lines_per_frame: int, input_shape: Tuple[int, int, int],idx=0) -> np.ndarray:\n",
        "    copy_frame = np.copy(frame)\n",
        "    polyline_widths, polyline_heights = polylines[0][idx], polylines[1][idx]\n",
        "    polyline_width_list = np.split(polyline_widths, max_lines_per_frame)\n",
        "    polyline_height_list = np.split(polyline_heights, max_lines_per_frame)\n",
        "\n",
        "    for polyline_width, polyline_height in zip(polyline_width_list, polyline_height_list):\n",
        "        polyline_width *= input_shape[0]\n",
        "        polyline_height *= input_shape[1]\n",
        "        polyline = concat_polyline(polyline_width, polyline_height)\n",
        "        polyline = __filter_coordination_for_resolution(polyline, input_shape=input_shape)\n",
        "        copy_frame = cv2.polylines(copy_frame, np.int32(polyline).reshape((-1, 1, 2)), 1,\n",
        "                                   color=(255, 0, 0),\n",
        "                                   thickness=thickness)\n",
        "    return copy_frame\n",
        "\n",
        "\n",
        "def test_generator(generator, input_shape: Tuple[int, int, int],\n",
        "                   max_lines_per_frame: int, draw_line=False, ) -> None:\n",
        "    \"\"\"Test frame and labels on generator\"\"\"\n",
        "    original_frames, original_polylines = generator[0]\n",
        "    original_frame = original_frames[0]\n",
        "\n",
        "    draw_original_polylines_frame = draw_polyline_in_frame(\n",
        "        frame=original_frame,\n",
        "        polylines=original_polylines,\n",
        "        max_lines_per_frame=max_lines_per_frame,\n",
        "        input_shape=input_shape,\n",
        "        thickness=2\n",
        "    )\n",
        "    cv2_imshow(draw_original_polylines_frame * 255)\n",
        "    cv2.waitKey(0)"
      ],
      "metadata": {
        "id": "2vW-jBRsqxOV"
      },
      "execution_count": 321,
      "outputs": []
    },
    {
      "cell_type": "code",
      "execution_count": 277,
      "metadata": {
        "id": "3UulO6JU9jSX",
        "colab": {
          "base_uri": "https://localhost:8080/",
          "height": 273
        },
        "outputId": "13174612-5d3c-4a49-8af7-8d9a05082fb9"
      },
      "outputs": [
        {
          "output_type": "display_data",
          "data": {
            "image/png": "[encoded data removed]",
            "text/plain": [
              "<PIL.Image.Image image mode=RGB size=256x256 at 0x7F202E657B10>"
            ]
          },
          "metadata": {}
        }
      ],
      "source": [
        "test_generator(train_generator, draw_line=True, input_shape=INPUT_SHAPE,max_lines_per_frame=MAX_LINES_PER_FRAME)"
      ]
    },
    {
      "cell_type": "markdown",
      "source": [
        "### Build model"
      ],
      "metadata": {
        "id": "apajkVKbsGKa"
      }
    },
    {
      "cell_type": "code",
      "execution_count": 304,
      "metadata": {
        "id": "QtyufdDK9jxE"
      },
      "outputs": [],
      "source": [
        "def build_model(polyline_width_output_shape:int ,polyline_height_output_shape:int, input_shape:Tuple[int,int,int], model_name:str):\n",
        "\n",
        "    input_img = layers.Input(shape=input_shape)\n",
        "\n",
        "    # First block\n",
        "    layer = layers.Conv2D(256, (3, 3), activation='relu',use_bias=False)(input_img)\n",
        "    layer = layers.BatchNormalization()(layer)\n",
        "    layer = layers.MaxPooling2D()(layer)\n",
        "\n",
        "    # Second block\n",
        "    layer = layers.Conv2D(256, (3, 3), activation='relu',use_bias=False)(layer)\n",
        "    layer = layers.BatchNormalization()(layer)\n",
        "    layer = layers.MaxPooling2D()(layer)\n",
        "\n",
        "    # Third block\n",
        "    layer = layers.Conv2D(128, (3, 3), activation='relu',use_bias=False)(layer)\n",
        "    layer = layers.BatchNormalization()(layer)\n",
        "    layer = layers.MaxPooling2D()(layer)\n",
        "\n",
        "    # Fourth block\n",
        "    layer = layers.Conv2D(64, (3, 3), activation='relu',use_bias=False)(layer)\n",
        "    layer = layers.BatchNormalization()(layer)\n",
        "\n",
        "    # GlobalMaxPool\n",
        "    layer = layers.GlobalMaxPool2D()(layer)\n",
        "\n",
        "    # polyline common part \n",
        "    polyline_common = tf.keras.layers.Dense(units=512, activation='relu')(layer)\n",
        "    polyline_common = layers.BatchNormalization()(polyline_common)\n",
        "    polyline_common = layers.Dropout(.2)(polyline_common) \n",
        "\n",
        "    # polyline height\n",
        "    pol_1 = tf.keras.layers.Dense(units=256, activation='relu')(polyline_common)\n",
        "    pol_1 = layers.BatchNormalization()(pol_1)\n",
        "    pol_1 = layers.Dropout(.2)(pol_1)\n",
        "\n",
        "    pol_1 = tf.keras.layers.Dense(units=128,activation='relu')(pol_1)\n",
        "    pol_1 = layers.BatchNormalization()(pol_1)\n",
        "    pol_1 = layers.Dropout(.2)(pol_1)\n",
        "\n",
        "    # polyline width \n",
        "    pol_2 = tf.keras.layers.Dense(units=256, activation='relu')(polyline_common)\n",
        "    pol_2 = layers.BatchNormalization()(pol_2)\n",
        "    pol_2 = layers.Dropout(.2)(pol_2)\n",
        "\n",
        "    pol_2 = tf.keras.layers.Dense(units=128,activation='relu')(pol_2)\n",
        "    pol_2 = layers.BatchNormalization()(pol_2)\n",
        "    pol_2 = layers.Dropout(.2)(pol_2)\n",
        "\n",
        "    # output\n",
        "    polyline_output_width = layers.Dense(polyline_width_output_shape,name='polyline_width')(pol_1)\n",
        "    polyline_output_height = layers.Dense(polyline_height_output_shape,name='polyline_height')(pol_2)\n",
        "\n",
        "    model = Model(input_img, outputs=[\n",
        "        polyline_output_width,\n",
        "        polyline_output_height,\n",
        "      ], name = model_name\n",
        "    )\n",
        "\n",
        "    return model"
      ]
    },
    {
      "cell_type": "markdown",
      "source": [
        "### Callbacks initialization"
      ],
      "metadata": {
        "id": "elQ_r8vfrSIY"
      }
    },
    {
      "cell_type": "code",
      "execution_count": 305,
      "metadata": {
        "id": "XxGmiY5eAWdn"
      },
      "outputs": [],
      "source": [
        "model_name = MODEL_NAME\n",
        "logdir = f\"logs/{model_name}\"\n",
        "checkpoint_filepath = f\"/model/{model_name}\"\n",
        "\n",
        "tensorboard_callback = tf.keras.callbacks.TensorBoard(log_dir=logdir)\n",
        "early_stop_polyline_callback = tf.keras.callbacks.EarlyStopping(\n",
        "    patience=5,\n",
        "    monitor='val_polyline_width_loss'\n",
        ")\n",
        "\n",
        "reduce_lr_callback_depends_on_polyline_1_loss = tf.keras.callbacks.ReduceLROnPlateau(\n",
        "    monitor='val_polyline_width_loss', factor=0.8, patience=2, verbose=1, mode='auto',\n",
        "    min_delta=0.0001, cooldown=0, min_lr=0.00001\n",
        ")\n",
        "reduce_lr_callback_depends_on_polyline_2_loss = tf.keras.callbacks.ReduceLROnPlateau(\n",
        "    monitor='val_polyline_height_loss', factor=0.8, patience=2, verbose=1, mode='auto',\n",
        "    min_delta=0.0001, cooldown=0, min_lr=0.00001\n",
        ")\n",
        "\n",
        "model_checkpoint_callback = tf.keras.callbacks.ModelCheckpoint(\n",
        "    filepath=checkpoint_filepath,\n",
        "    save_weights_only=True,\n",
        "    monitor='val_polyline_width_loss',\n",
        "    mode='max',\n",
        "    save_best_only=True)"
      ]
    },
    {
      "cell_type": "markdown",
      "source": [
        "### Load test image"
      ],
      "metadata": {
        "id": "ACF_VuyJrWj6"
      }
    },
    {
      "cell_type": "code",
      "source": [
        "frame_path = '/content/drive/My Drive/Ilmenau/tusimple/test_frame.png'\n",
        "\n",
        "frame = cv2.imread(frame_path)\n",
        "gray = cv2.cvtColor(frame, cv2.COLOR_BGR2GRAY)\n",
        "img_gaussian = cv2.GaussianBlur(gray,(3,3),0)\n",
        "img_gaussian = cv2.resize(img_gaussian, (FINAL_SHAPE))\n",
        "img_canny = cv2.Canny(img_gaussian, FINAL_SHAPE[0], FINAL_SHAPE[1])      \n",
        "frame = tf.keras.preprocessing.image.img_to_array(img_canny)\n",
        "frame = frame * 255\n",
        "cv2_imshow(frame)"
      ],
      "metadata": {
        "colab": {
          "base_uri": "https://localhost:8080/",
          "height": 273
        },
        "id": "DYu8ixnGZDOW",
        "outputId": "0b859ee5-d19a-4e8b-f293-1af2afd44752"
      },
      "execution_count": 306,
      "outputs": [
        {
          "output_type": "display_data",
          "data": {
            "image/png": "[encoded data removed]",
            "text/plain": [
              "<PIL.Image.Image image mode=RGB size=256x256 at 0x7F22CDC0FDD0>"
            ]
          },
          "metadata": {}
        }
      ]
    },
    {
      "cell_type": "markdown",
      "source": [
        "### Draw line at the end of an epoch"
      ],
      "metadata": {
        "id": "C_jYWRonsZtF"
      }
    },
    {
      "cell_type": "code",
      "execution_count": 318,
      "metadata": {
        "id": "k-w3PThdAdiN"
      },
      "outputs": [],
      "source": [
        "class DrawPolylineOnEpochEnd(tf.keras.callbacks.Callback):\n",
        "  \"\"\"Draw polyline at the end on the epoch to test the net. It skip one batch on validation but похуй\"\"\"\n",
        "  def __init__(self, test_frame:np.ndarray,train_generator, validation_generator,model,*args,**kwargs):\n",
        "    super().__init__(*args,**kwargs)\n",
        "    self.train_generator = train_generator\n",
        "    self.validation_generator = validation_generator\n",
        "    self.model = model\n",
        "    self.test_frame = test_frame\n",
        "\n",
        "  def __filter_coordination_for_resolution(self, polyline: np.ndarray) -> np.ndarray:\n",
        "    valid = ((polyline[:, 0] > 0) & (polyline[:, 1] > 0)\n",
        "              & (polyline[:, 0] < INPUT_SHAPE[0]) & (polyline[:, 1] < INPUT_SHAPE[1]))\n",
        "    return polyline[valid]\n",
        "\n",
        "  def __filter_coordinates(self, list_of_polylines: List[np.ndarray]) -> np.ndarray:\n",
        "    \"\"\"Remove empty points and coordinates x or y, that is less than 0\"\"\"\n",
        "    list_of_polylines = list(map(lambda x: x.reshape(-1, 2), list_of_polylines))\n",
        "    return list(map(lambda polyline: self.__filter_coordination_for_resolution(polyline),\n",
        "                    list_of_polylines))  \n",
        "\n",
        "  def concat_polyline(self,polyline_width: np.ndarray, polyline_height: np.ndarray) -> np.ndarray: \n",
        "    return np.concatenate((polyline_width.reshape(-1, 1), polyline_height.reshape(-1, 1)), axis=1)\n",
        "\n",
        "  def test_model(self, generator: Sequence):\n",
        "    original_frames, original_polylines = generator[0]\n",
        "    original_frame = original_frames[0]\n",
        "    draw_original_polylines_frame = draw_polyline_in_frame(\n",
        "        original_frame,\n",
        "        original_polylines,\n",
        "        thickness=2,\n",
        "        max_lines_per_frame=MAX_LINES_PER_FRAME, \n",
        "        input_shape=INPUT_SHAPE\n",
        "    )\n",
        "\n",
        "    original_frame = np.copy(original_frame)\n",
        "    frame = np.expand_dims(original_frame, 0)\n",
        "    res = self.model.predict(frame)\n",
        "\n",
        "    final_frame = draw_polyline_in_frame(\n",
        "        draw_original_polylines_frame,\n",
        "        res,\n",
        "        thickness=5, \n",
        "        max_lines_per_frame=MAX_LINES_PER_FRAME, \n",
        "        input_shape=INPUT_SHAPE\n",
        "    )\n",
        "    cv2_imshow(final_frame * 255)\n",
        "\n",
        "  def on_epoch_end(self, epoch, logs=None):\n",
        "      print(f'Epoch {epoch+1}. Draw polylines on train generator...')\n",
        "      self.test_model(self.train_generator)\n",
        "      print('Test on test image...')\n",
        "      self.test_on_image()\n",
        "\n",
        "  def test_on_image(self):\n",
        "    frame = np.expand_dims(self.test_frame, 0)\n",
        "    res = self.model.predict(frame)\n",
        "    res_frame = draw_polyline_in_frame(\n",
        "        self.test_frame,\n",
        "        res,thickness=5,        \n",
        "        max_lines_per_frame=MAX_LINES_PER_FRAME, \n",
        "        input_shape=INPUT_SHAPE\n",
        "    )\n",
        "    cv2_imshow(res_frame * 255)"
      ]
    },
    {
      "cell_type": "code",
      "execution_count": 308,
      "metadata": {
        "id": "BI6W2uyKC15X"
      },
      "outputs": [],
      "source": [
        "model = build_model(\n",
        "    polyline_width_output_shape = MAX_NUM_POINTS * MAX_LINES_PER_FRAME, \n",
        "    polyline_height_output_shape = MAX_NUM_POINTS * MAX_LINES_PER_FRAME, \n",
        "    input_shape = INPUT_SHAPE,\n",
        "    model_name = MODEL_NAME,\n",
        ")\n",
        "# print(model.summary())"
      ]
    },
    {
      "cell_type": "code",
      "source": [
        "DrawPolylineOnEpochEnd(train_generator=train_generator, validation_generator=validation_generator,model=model, test_frame=frame).on_epoch_end(1)"
      ],
      "metadata": {
        "colab": {
          "base_uri": "https://localhost:8080/",
          "height": 1000
        },
        "id": "cwIsSaqMbuGP",
        "outputId": "f4cf2011-c49e-48bf-80d4-86724b00f3d5"
      },
      "execution_count": 320,
      "outputs": [
        {
          "output_type": "stream",
          "name": "stdout",
          "text": [
            "Epoch 2. Draw polylines on train generator...\n",
            "[[146.19999695  85.33333588]\n",
            " [129.19999695  96.        ]\n",
            " [119.40000153 106.66666412]\n",
            " [110.         117.33333588]\n",
            " [102.         128.        ]\n",
            " [ 94.40000153 138.66667175]\n",
            " [ 86.80000305 149.33332825]\n",
            " [ 79.19999695 160.        ]\n",
            " [ 71.59999847 170.66667175]\n",
            " [ 64.         181.33332825]\n",
            " [ 56.40000153 192.        ]\n",
            " [ 48.79999924 202.66667175]\n",
            " [ 41.20000076 213.33332825]\n",
            " [ 33.59999847 224.        ]\n",
            " [ 26.20000076 234.66667175]\n",
            " [ 18.60000038 245.33332825]]\n",
            "[[157.80000305  85.33333588]\n",
            " [152.19999695  96.        ]\n",
            " [151.         106.66666412]\n",
            " [153.3999939  117.33333588]\n",
            " [155.80000305 128.        ]\n",
            " [158.19999695 138.66667175]\n",
            " [162.6000061  149.33332825]\n",
            " [167.19999695 160.        ]\n",
            " [171.6000061  170.66667175]\n",
            " [176.19999695 181.33332825]\n",
            " [180.6000061  192.        ]\n",
            " [185.19999695 202.66667175]\n",
            " [189.6000061  213.33332825]\n",
            " [194.19999695 224.        ]\n",
            " [198.6000061  234.66667175]\n",
            " [203.19999695 245.33332825]]\n",
            "[[ 93.47557   93.82913 ]\n",
            " [112.60387  105.35561 ]\n",
            " [109.17262  116.51329 ]\n",
            " [103.73465  127.96131 ]\n",
            " [ 96.95596  138.29964 ]\n",
            " [ 89.68204  149.49391 ]\n",
            " [ 83.5616   155.53854 ]\n",
            " [ 76.22525  165.06981 ]\n",
            " [ 68.266975 171.10788 ]\n",
            " [ 54.038193 172.42764 ]\n",
            " [ 42.923965 187.01193 ]\n",
            " [ 33.52643  198.33177 ]\n",
            " [ 27.018463 208.21909 ]\n",
            " [ 20.047165 218.11603 ]\n",
            " [ 12.082001 228.36555 ]]\n",
            "[[118.50905   93.736145]\n",
            " [140.0278   105.2469  ]\n",
            " [149.05128  116.44097 ]\n",
            " [155.73038  127.36145 ]\n",
            " [161.99037  138.20834 ]\n",
            " [168.48749  150.77101 ]\n",
            " [176.75043  158.63437 ]\n",
            " [178.04446  166.19154 ]\n",
            " [183.74872  175.89934 ]\n",
            " [190.2286   186.90709 ]\n",
            " [196.25745  196.54526 ]\n",
            " [191.89407  200.1798  ]\n",
            " [193.9321   208.042   ]\n",
            " [192.02216  218.41803 ]\n",
            " [175.00804  228.2773  ]]\n"
          ]
        },
        {
          "output_type": "display_data",
          "data": {
            "image/png": "[encoded data removed]",
            "text/plain": [
              "<PIL.Image.Image image mode=RGB size=256x256 at 0x7F202E33DB90>"
            ]
          },
          "metadata": {}
        },
        {
          "output_type": "stream",
          "name": "stdout",
          "text": [
            "Test on test image...\n",
            "[]\n",
            "[]\n"
          ]
        },
        {
          "output_type": "display_data",
          "data": {
            "image/png": "[encoded data removed]",
            "text/plain": [
              "<PIL.Image.Image image mode=RGB size=256x256 at 0x7F22CE5FC590>"
            ]
          },
          "metadata": {}
        }
      ]
    },
    {
      "cell_type": "code",
      "execution_count": 309,
      "metadata": {
        "id": "3fx4qTmVDhQL"
      },
      "outputs": [],
      "source": [
        "# tf.experimental.numpy.experimental_enable_numpy_behavior()\n",
        "# tf.keras.utils.plot_model(model, \"multi_output_model.png\", show_shapes=True)"
      ]
    },
    {
      "cell_type": "markdown",
      "source": [
        "### model compile and fit"
      ],
      "metadata": {
        "id": "-5ZG07YEs3j3"
      }
    },
    {
      "cell_type": "code",
      "execution_count": 310,
      "metadata": {
        "id": "pxG8RzboEadS"
      },
      "outputs": [],
      "source": [
        "from tensorflow.keras.optimizers import Adam\n",
        "\n",
        "learning_rate = 0.01\n",
        "\n",
        "model.compile(loss= {\n",
        "      'polyline_width':tf.keras.losses.MeanAbsoluteError(),\n",
        "      'polyline_height':tf.keras.losses.MeanAbsoluteError(),\n",
        "    },\n",
        "    optimizer=Adam(learning_rate=learning_rate),\n",
        "    metrics={'polyline_width':tf.keras.metrics.MeanSquaredError(),\n",
        "             'polyline_height':tf.keras.metrics.MeanSquaredError(),\n",
        "             },)"
      ]
    },
    {
      "cell_type": "code",
      "execution_count": 311,
      "metadata": {
        "colab": {
          "base_uri": "https://localhost:8080/",
          "height": 1000
        },
        "id": "1Whyz6pGEn-z",
        "outputId": "e69b5965-1fc8-48b5-8a78-37306e7024f0"
      },
      "outputs": [
        {
          "output_type": "stream",
          "name": "stdout",
          "text": [
            "Epoch 1/3\n",
            "Epoch 1. Draw polylines on train generator...\n"
          ]
        },
        {
          "output_type": "display_data",
          "data": {
            "image/png": "[encoded data removed]",
            "text/plain": [
              "<PIL.Image.Image image mode=RGB size=256x256 at 0x7F22CA4566D0>"
            ]
          },
          "metadata": {}
        },
        {
          "output_type": "stream",
          "name": "stdout",
          "text": [
            "Test on test image...\n"
          ]
        },
        {
          "output_type": "display_data",
          "data": {
            "image/png": "[encoded data removed]",
            "text/plain": [
              "<PIL.Image.Image image mode=RGB size=256x256 at 0x7F202E66A610>"
            ]
          },
          "metadata": {}
        },
        {
          "output_type": "stream",
          "name": "stdout",
          "text": [
            "821/821 - 346s - loss: 0.3869 - polyline_width_loss: 0.1904 - polyline_height_loss: 0.1965 - polyline_width_mean_squared_error: 0.1735 - polyline_height_mean_squared_error: 0.1833 - val_loss: 0.6558 - val_polyline_width_loss: 0.4165 - val_polyline_height_loss: 0.2392 - val_polyline_width_mean_squared_error: 0.5528 - val_polyline_height_mean_squared_error: 0.3332 - lr: 0.0100 - 346s/epoch - 422ms/step\n",
            "Epoch 2/3\n",
            "Epoch 2. Draw polylines on train generator...\n"
          ]
        },
        {
          "output_type": "display_data",
          "data": {
            "image/png": "[encoded data removed]",
            "text/plain": [
              "<PIL.Image.Image image mode=RGB size=256x256 at 0x7F22CE58F790>"
            ]
          },
          "metadata": {}
        },
        {
          "output_type": "stream",
          "name": "stdout",
          "text": [
            "Test on test image...\n"
          ]
        },
        {
          "output_type": "display_data",
          "data": {
            "image/png": "[encoded data removed]",
            "text/plain": [
              "<PIL.Image.Image image mode=RGB size=256x256 at 0x7F2252227790>"
            ]
          },
          "metadata": {}
        },
        {
          "output_type": "stream",
          "name": "stdout",
          "text": [
            "821/821 - 341s - loss: 0.2526 - polyline_width_loss: 0.1263 - polyline_height_loss: 0.1264 - polyline_width_mean_squared_error: 0.1120 - polyline_height_mean_squared_error: 0.1142 - val_loss: 0.8340 - val_polyline_width_loss: 0.4086 - val_polyline_height_loss: 0.4254 - val_polyline_width_mean_squared_error: 0.4974 - val_polyline_height_mean_squared_error: 0.6069 - lr: 0.0100 - 341s/epoch - 415ms/step\n",
            "Epoch 3/3\n",
            "\n",
            "Epoch 3: ReduceLROnPlateau reducing learning rate to 0.007999999821186066.\n",
            "Epoch 3. Draw polylines on train generator...\n"
          ]
        },
        {
          "output_type": "display_data",
          "data": {
            "image/png": "[encoded data removed]",
            "text/plain": [
              "<PIL.Image.Image image mode=RGB size=256x256 at 0x7F22CE6274D0>"
            ]
          },
          "metadata": {}
        },
        {
          "output_type": "stream",
          "name": "stdout",
          "text": [
            "Test on test image...\n"
          ]
        },
        {
          "output_type": "display_data",
          "data": {
            "image/png": "[encoded data removed]",
            "text/plain": [
              "<PIL.Image.Image image mode=RGB size=256x256 at 0x7F202E697110>"
            ]
          },
          "metadata": {}
        },
        {
          "output_type": "stream",
          "name": "stdout",
          "text": [
            "821/821 - 333s - loss: 0.2458 - polyline_width_loss: 0.1232 - polyline_height_loss: 0.1226 - polyline_width_mean_squared_error: 0.1086 - polyline_height_mean_squared_error: 0.1095 - val_loss: 0.6738 - val_polyline_width_loss: 0.4227 - val_polyline_height_loss: 0.2512 - val_polyline_width_mean_squared_error: 0.5484 - val_polyline_height_mean_squared_error: 0.3325 - lr: 0.0100 - 333s/epoch - 405ms/step\n"
          ]
        }
      ],
      "source": [
        "history = model.fit(train_generator,\n",
        "                    epochs=3,\n",
        "                    verbose=2,\n",
        "                    validation_data=validation_generator,\n",
        "                    callbacks=[\n",
        "                        tensorboard_callback,\n",
        "                        early_stop_polyline_callback,\n",
        "                        reduce_lr_callback_depends_on_polyline_1_loss,\n",
        "                        reduce_lr_callback_depends_on_polyline_2_loss,\n",
        "                        model_checkpoint_callback,\n",
        "                        DrawPolylineOnEpochEnd(\n",
        "                            train_generator=train_generator, \n",
        "                            validation_generator=validation_generator,\n",
        "                            model=model, \n",
        "                            test_frame=frame,\n",
        "                          ),\n",
        "                      ],\n",
        "                    )"
      ]
    },
    {
      "cell_type": "code",
      "execution_count": 312,
      "metadata": {
        "id": "6HwAmNbmEqYv"
      },
      "outputs": [],
      "source": [
        "from keras import backend as K\n",
        "K.set_value(model.optimizer.learning_rate, 0.001)"
      ]
    },
    {
      "cell_type": "code",
      "execution_count": 313,
      "metadata": {
        "colab": {
          "base_uri": "https://localhost:8080/",
          "height": 1000
        },
        "id": "sQU6E5eEzZqk",
        "outputId": "974dc8bf-6287-4e4c-ed58-01dc49ac94c2"
      },
      "outputs": [
        {
          "output_type": "stream",
          "name": "stdout",
          "text": [
            "Epoch 1/10\n",
            "Epoch 1. Draw polylines on train generator...\n"
          ]
        },
        {
          "output_type": "display_data",
          "data": {
            "image/png": "[encoded data removed]",
            "text/plain": [
              "<PIL.Image.Image image mode=RGB size=256x256 at 0x7F22CE5B3850>"
            ]
          },
          "metadata": {}
        },
        {
          "output_type": "stream",
          "name": "stdout",
          "text": [
            "Test on test image...\n"
          ]
        },
        {
          "output_type": "display_data",
          "data": {
            "image/png": "[encoded data removed]",
            "text/plain": [
              "<PIL.Image.Image image mode=RGB size=256x256 at 0x7F22520C1490>"
            ]
          },
          "metadata": {}
        },
        {
          "output_type": "stream",
          "name": "stdout",
          "text": [
            "821/821 - 343s - loss: 0.2215 - polyline_width_loss: 0.1122 - polyline_height_loss: 0.1093 - polyline_width_mean_squared_error: 0.1023 - polyline_height_mean_squared_error: 0.1009 - val_loss: 0.5715 - val_polyline_width_loss: 0.3200 - val_polyline_height_loss: 0.2515 - val_polyline_width_mean_squared_error: 0.3790 - val_polyline_height_mean_squared_error: 0.3724 - lr: 0.0010 - 343s/epoch - 418ms/step\n",
            "Epoch 2/10\n",
            "Epoch 2. Draw polylines on train generator...\n"
          ]
        },
        {
          "output_type": "display_data",
          "data": {
            "image/png": "[encoded data removed]",
            "text/plain": [
              "<PIL.Image.Image image mode=RGB size=256x256 at 0x7F22CE53AE50>"
            ]
          },
          "metadata": {}
        },
        {
          "output_type": "stream",
          "name": "stdout",
          "text": [
            "Test on test image...\n"
          ]
        },
        {
          "output_type": "display_data",
          "data": {
            "image/png": "[encoded data removed]",
            "text/plain": [
              "<PIL.Image.Image image mode=RGB size=256x256 at 0x7F22E63CB1D0>"
            ]
          },
          "metadata": {}
        },
        {
          "output_type": "stream",
          "name": "stdout",
          "text": [
            "821/821 - 342s - loss: 0.2171 - polyline_width_loss: 0.1100 - polyline_height_loss: 0.1071 - polyline_width_mean_squared_error: 0.0999 - polyline_height_mean_squared_error: 0.0985 - val_loss: 0.5434 - val_polyline_width_loss: 0.3142 - val_polyline_height_loss: 0.2292 - val_polyline_width_mean_squared_error: 0.3643 - val_polyline_height_mean_squared_error: 0.3473 - lr: 0.0010 - 342s/epoch - 416ms/step\n",
            "Epoch 3/10\n",
            "Epoch 3. Draw polylines on train generator...\n"
          ]
        },
        {
          "output_type": "display_data",
          "data": {
            "image/png": "[encoded data removed]",
            "text/plain": [
              "<PIL.Image.Image image mode=RGB size=256x256 at 0x7F22CE57D1D0>"
            ]
          },
          "metadata": {}
        },
        {
          "output_type": "stream",
          "name": "stdout",
          "text": [
            "Test on test image...\n"
          ]
        },
        {
          "output_type": "display_data",
          "data": {
            "image/png": "[encoded data removed]",
            "text/plain": [
              "<PIL.Image.Image image mode=RGB size=256x256 at 0x7F202E477C50>"
            ]
          },
          "metadata": {}
        },
        {
          "output_type": "stream",
          "name": "stdout",
          "text": [
            "821/821 - 324s - loss: 0.2146 - polyline_width_loss: 0.1083 - polyline_height_loss: 0.1063 - polyline_width_mean_squared_error: 0.0985 - polyline_height_mean_squared_error: 0.0974 - val_loss: 0.5961 - val_polyline_width_loss: 0.3231 - val_polyline_height_loss: 0.2730 - val_polyline_width_mean_squared_error: 0.3758 - val_polyline_height_mean_squared_error: 0.3968 - lr: 0.0010 - 324s/epoch - 394ms/step\n",
            "Epoch 4/10\n",
            "\n",
            "Epoch 4: ReduceLROnPlateau reducing learning rate to 0.000800000037997961.\n",
            "\n",
            "Epoch 4: ReduceLROnPlateau reducing learning rate to 0.0006400000303983689.\n",
            "Epoch 4. Draw polylines on train generator...\n"
          ]
        },
        {
          "output_type": "display_data",
          "data": {
            "image/png": "[encoded data removed]",
            "text/plain": [
              "<PIL.Image.Image image mode=RGB size=256x256 at 0x7F22CE28D850>"
            ]
          },
          "metadata": {}
        },
        {
          "output_type": "stream",
          "name": "stdout",
          "text": [
            "Test on test image...\n"
          ]
        },
        {
          "output_type": "display_data",
          "data": {
            "image/png": "[encoded data removed]",
            "text/plain": [
              "<PIL.Image.Image image mode=RGB size=256x256 at 0x7F202E4B02D0>"
            ]
          },
          "metadata": {}
        },
        {
          "output_type": "stream",
          "name": "stdout",
          "text": [
            "821/821 - 324s - loss: 0.2132 - polyline_width_loss: 0.1077 - polyline_height_loss: 0.1055 - polyline_width_mean_squared_error: 0.0976 - polyline_height_mean_squared_error: 0.0962 - val_loss: 0.5836 - val_polyline_width_loss: 0.3203 - val_polyline_height_loss: 0.2633 - val_polyline_width_mean_squared_error: 0.3716 - val_polyline_height_mean_squared_error: 0.3887 - lr: 8.0000e-04 - 324s/epoch - 395ms/step\n",
            "Epoch 5/10\n",
            "Epoch 5. Draw polylines on train generator...\n"
          ]
        },
        {
          "output_type": "display_data",
          "data": {
            "image/png": "[encoded data removed]",
            "text/plain": [
              "<PIL.Image.Image image mode=RGB size=256x256 at 0x7F22E63AF190>"
            ]
          },
          "metadata": {}
        },
        {
          "output_type": "stream",
          "name": "stdout",
          "text": [
            "Test on test image...\n"
          ]
        },
        {
          "output_type": "display_data",
          "data": {
            "image/png": "[encoded data removed]",
            "text/plain": [
              "<PIL.Image.Image image mode=RGB size=256x256 at 0x7F2252037090>"
            ]
          },
          "metadata": {}
        },
        {
          "output_type": "stream",
          "name": "stdout",
          "text": [
            "821/821 - 326s - loss: 0.2096 - polyline_width_loss: 0.1058 - polyline_height_loss: 0.1038 - polyline_width_mean_squared_error: 0.0964 - polyline_height_mean_squared_error: 0.0950 - val_loss: 0.5185 - val_polyline_width_loss: 0.3027 - val_polyline_height_loss: 0.2158 - val_polyline_width_mean_squared_error: 0.3605 - val_polyline_height_mean_squared_error: 0.3329 - lr: 6.4000e-04 - 326s/epoch - 397ms/step\n",
            "Epoch 6/10\n",
            "Epoch 6. Draw polylines on train generator...\n"
          ]
        },
        {
          "output_type": "display_data",
          "data": {
            "image/png": "[encoded data removed]",
            "text/plain": [
              "<PIL.Image.Image image mode=RGB size=256x256 at 0x7F22CDBEB9D0>"
            ]
          },
          "metadata": {}
        },
        {
          "output_type": "stream",
          "name": "stdout",
          "text": [
            "Test on test image...\n"
          ]
        },
        {
          "output_type": "display_data",
          "data": {
            "image/png": "[encoded data removed]",
            "text/plain": [
              "<PIL.Image.Image image mode=RGB size=256x256 at 0x7F22CE63C310>"
            ]
          },
          "metadata": {}
        },
        {
          "output_type": "stream",
          "name": "stdout",
          "text": [
            "821/821 - 325s - loss: 0.2087 - polyline_width_loss: 0.1053 - polyline_height_loss: 0.1034 - polyline_width_mean_squared_error: 0.0959 - polyline_height_mean_squared_error: 0.0941 - val_loss: 0.5134 - val_polyline_width_loss: 0.2996 - val_polyline_height_loss: 0.2138 - val_polyline_width_mean_squared_error: 0.3551 - val_polyline_height_mean_squared_error: 0.3318 - lr: 6.4000e-04 - 325s/epoch - 395ms/step\n",
            "Epoch 7/10\n",
            "Epoch 7. Draw polylines on train generator...\n"
          ]
        },
        {
          "output_type": "display_data",
          "data": {
            "image/png": "[encoded data removed]",
            "text/plain": [
              "<PIL.Image.Image image mode=RGB size=256x256 at 0x7F22CE53A410>"
            ]
          },
          "metadata": {}
        },
        {
          "output_type": "stream",
          "name": "stdout",
          "text": [
            "Test on test image...\n"
          ]
        },
        {
          "output_type": "display_data",
          "data": {
            "image/png": "[encoded data removed]",
            "text/plain": [
              "<PIL.Image.Image image mode=RGB size=256x256 at 0x7F22CE247810>"
            ]
          },
          "metadata": {}
        },
        {
          "output_type": "stream",
          "name": "stdout",
          "text": [
            "821/821 - 325s - loss: 0.2068 - polyline_width_loss: 0.1044 - polyline_height_loss: 0.1024 - polyline_width_mean_squared_error: 0.0950 - polyline_height_mean_squared_error: 0.0933 - val_loss: 0.5764 - val_polyline_width_loss: 0.3207 - val_polyline_height_loss: 0.2556 - val_polyline_width_mean_squared_error: 0.3844 - val_polyline_height_mean_squared_error: 0.3834 - lr: 6.4000e-04 - 325s/epoch - 396ms/step\n",
            "Epoch 8/10\n",
            "\n",
            "Epoch 8: ReduceLROnPlateau reducing learning rate to 0.0005120000336319208.\n",
            "\n",
            "Epoch 8: ReduceLROnPlateau reducing learning rate to 0.00040960004553198815.\n",
            "Epoch 8. Draw polylines on train generator...\n"
          ]
        },
        {
          "output_type": "display_data",
          "data": {
            "image/png": "[encoded data removed]",
            "text/plain": [
              "<PIL.Image.Image image mode=RGB size=256x256 at 0x7F22CE718A50>"
            ]
          },
          "metadata": {}
        },
        {
          "output_type": "stream",
          "name": "stdout",
          "text": [
            "Test on test image...\n"
          ]
        },
        {
          "output_type": "display_data",
          "data": {
            "image/png": "[encoded data removed]",
            "text/plain": [
              "<PIL.Image.Image image mode=RGB size=256x256 at 0x7F22CE5D5910>"
            ]
          },
          "metadata": {}
        },
        {
          "output_type": "stream",
          "name": "stdout",
          "text": [
            "821/821 - 327s - loss: 0.2060 - polyline_width_loss: 0.1037 - polyline_height_loss: 0.1023 - polyline_width_mean_squared_error: 0.0943 - polyline_height_mean_squared_error: 0.0930 - val_loss: 0.5576 - val_polyline_width_loss: 0.3119 - val_polyline_height_loss: 0.2457 - val_polyline_width_mean_squared_error: 0.3679 - val_polyline_height_mean_squared_error: 0.3687 - lr: 5.1200e-04 - 327s/epoch - 399ms/step\n",
            "Epoch 9/10\n",
            "Epoch 9. Draw polylines on train generator...\n"
          ]
        },
        {
          "output_type": "display_data",
          "data": {
            "image/png": "[encoded data removed]",
            "text/plain": [
              "<PIL.Image.Image image mode=RGB size=256x256 at 0x7F22CE09A150>"
            ]
          },
          "metadata": {}
        },
        {
          "output_type": "stream",
          "name": "stdout",
          "text": [
            "Test on test image...\n"
          ]
        },
        {
          "output_type": "display_data",
          "data": {
            "image/png": "[encoded data removed]",
            "text/plain": [
              "<PIL.Image.Image image mode=RGB size=256x256 at 0x7F22522812D0>"
            ]
          },
          "metadata": {}
        },
        {
          "output_type": "stream",
          "name": "stdout",
          "text": [
            "821/821 - 327s - loss: 0.2033 - polyline_width_loss: 0.1023 - polyline_height_loss: 0.1010 - polyline_width_mean_squared_error: 0.0929 - polyline_height_mean_squared_error: 0.0923 - val_loss: 0.5165 - val_polyline_width_loss: 0.2982 - val_polyline_height_loss: 0.2184 - val_polyline_width_mean_squared_error: 0.3558 - val_polyline_height_mean_squared_error: 0.3386 - lr: 4.0960e-04 - 327s/epoch - 398ms/step\n",
            "Epoch 10/10\n",
            "\n",
            "Epoch 10: ReduceLROnPlateau reducing learning rate to 0.00032768002711236477.\n",
            "Epoch 10. Draw polylines on train generator...\n"
          ]
        },
        {
          "output_type": "display_data",
          "data": {
            "image/png": "[encoded data removed]",
            "text/plain": [
              "<PIL.Image.Image image mode=RGB size=256x256 at 0x7F2136080FD0>"
            ]
          },
          "metadata": {}
        },
        {
          "output_type": "stream",
          "name": "stdout",
          "text": [
            "Test on test image...\n"
          ]
        },
        {
          "output_type": "display_data",
          "data": {
            "image/png": "[encoded data removed]",
            "text/plain": [
              "<PIL.Image.Image image mode=RGB size=256x256 at 0x7F22CE574CD0>"
            ]
          },
          "metadata": {}
        },
        {
          "output_type": "stream",
          "name": "stdout",
          "text": [
            "821/821 - 330s - loss: 0.2026 - polyline_width_loss: 0.1019 - polyline_height_loss: 0.1007 - polyline_width_mean_squared_error: 0.0923 - polyline_height_mean_squared_error: 0.0915 - val_loss: 0.5671 - val_polyline_width_loss: 0.3182 - val_polyline_height_loss: 0.2489 - val_polyline_width_mean_squared_error: 0.3777 - val_polyline_height_mean_squared_error: 0.3766 - lr: 4.0960e-04 - 330s/epoch - 401ms/step\n"
          ]
        }
      ],
      "source": [
        "history = model.fit(train_generator,\n",
        "                    epochs=10,\n",
        "                    verbose=2,\n",
        "                    validation_data=validation_generator,\n",
        "                    callbacks=[\n",
        "                        tensorboard_callback,\n",
        "                        early_stop_polyline_callback,\n",
        "                        reduce_lr_callback_depends_on_polyline_1_loss,\n",
        "                        reduce_lr_callback_depends_on_polyline_2_loss,\n",
        "                        model_checkpoint_callback,\n",
        "                        DrawPolylineOnEpochEnd(train_generator=train_generator, validation_generator=validation_generator,model=model,test_frame=frame)\n",
        "                      ],\n",
        "                    )"
      ]
    },
    {
      "cell_type": "code",
      "source": [
        "from keras import backend as K\n",
        "K.set_value(model.optimizer.learning_rate, 0.0001)"
      ],
      "metadata": {
        "id": "erDJmTR-MFAF"
      },
      "execution_count": 314,
      "outputs": []
    },
    {
      "cell_type": "code",
      "source": [
        "history = model.fit(train_generator,\n",
        "                    epochs=10,\n",
        "                    verbose=2,\n",
        "                    validation_data=validation_generator,\n",
        "                    callbacks=[\n",
        "                        tensorboard_callback,\n",
        "                        early_stop_polyline_callback,\n",
        "                        reduce_lr_callback_depends_on_polyline_1_loss,\n",
        "                        reduce_lr_callback_depends_on_polyline_2_loss,\n",
        "                        model_checkpoint_callback,\n",
        "                        DrawPolylineOnEpochEnd(train_generator=train_generator, validation_generator=validation_generator,model=model,test_frame=frame)\n",
        "                      ],\n",
        "                    )"
      ],
      "metadata": {
        "id": "9eHGRmypMDrX",
        "colab": {
          "base_uri": "https://localhost:8080/",
          "height": 1000
        },
        "outputId": "ba54e45c-2d59-4664-e363-521fa4c8dcf0"
      },
      "execution_count": 315,
      "outputs": [
        {
          "output_type": "stream",
          "name": "stdout",
          "text": [
            "Epoch 1/10\n",
            "Epoch 1. Draw polylines on train generator...\n"
          ]
        },
        {
          "output_type": "display_data",
          "data": {
            "image/png": "[encoded data removed]",
            "text/plain": [
              "<PIL.Image.Image image mode=RGB size=256x256 at 0x7F22CE58A6D0>"
            ]
          },
          "metadata": {}
        },
        {
          "output_type": "stream",
          "name": "stdout",
          "text": [
            "Test on test image...\n"
          ]
        },
        {
          "output_type": "display_data",
          "data": {
            "image/png": "[encoded data removed]",
            "text/plain": [
              "<PIL.Image.Image image mode=RGB size=256x256 at 0x7F22CE57D310>"
            ]
          },
          "metadata": {}
        },
        {
          "output_type": "stream",
          "name": "stdout",
          "text": [
            "821/821 - 328s - loss: 0.2001 - polyline_width_loss: 0.1006 - polyline_height_loss: 0.0995 - polyline_width_mean_squared_error: 0.0910 - polyline_height_mean_squared_error: 0.0910 - val_loss: 0.5070 - val_polyline_width_loss: 0.2936 - val_polyline_height_loss: 0.2134 - val_polyline_width_mean_squared_error: 0.3466 - val_polyline_height_mean_squared_error: 0.3355 - lr: 1.0000e-04 - 328s/epoch - 400ms/step\n",
            "Epoch 2/10\n",
            "Epoch 2. Draw polylines on train generator...\n"
          ]
        },
        {
          "output_type": "display_data",
          "data": {
            "image/png": "[encoded data removed]",
            "text/plain": [
              "<PIL.Image.Image image mode=RGB size=256x256 at 0x7F22CE4DF790>"
            ]
          },
          "metadata": {}
        },
        {
          "output_type": "stream",
          "name": "stdout",
          "text": [
            "Test on test image...\n"
          ]
        },
        {
          "output_type": "display_data",
          "data": {
            "image/png": "[encoded data removed]",
            "text/plain": [
              "<PIL.Image.Image image mode=RGB size=256x256 at 0x7F202E7AF0D0>"
            ]
          },
          "metadata": {}
        },
        {
          "output_type": "stream",
          "name": "stdout",
          "text": [
            "821/821 - 328s - loss: 0.1995 - polyline_width_loss: 0.1003 - polyline_height_loss: 0.0992 - polyline_width_mean_squared_error: 0.0908 - polyline_height_mean_squared_error: 0.0907 - val_loss: 0.5078 - val_polyline_width_loss: 0.2935 - val_polyline_height_loss: 0.2144 - val_polyline_width_mean_squared_error: 0.3472 - val_polyline_height_mean_squared_error: 0.3355 - lr: 1.0000e-04 - 328s/epoch - 400ms/step\n",
            "Epoch 3/10\n",
            "\n",
            "Epoch 3: ReduceLROnPlateau reducing learning rate to 7.999999797903001e-05.\n",
            "Epoch 3. Draw polylines on train generator...\n"
          ]
        },
        {
          "output_type": "display_data",
          "data": {
            "image/png": "[encoded data removed]",
            "text/plain": [
              "<PIL.Image.Image image mode=RGB size=256x256 at 0x7F22CE58F0D0>"
            ]
          },
          "metadata": {}
        },
        {
          "output_type": "stream",
          "name": "stdout",
          "text": [
            "Test on test image...\n"
          ]
        },
        {
          "output_type": "display_data",
          "data": {
            "image/png": "[encoded data removed]",
            "text/plain": [
              "<PIL.Image.Image image mode=RGB size=256x256 at 0x7F2252254050>"
            ]
          },
          "metadata": {}
        },
        {
          "output_type": "stream",
          "name": "stdout",
          "text": [
            "821/821 - 329s - loss: 0.1990 - polyline_width_loss: 0.0998 - polyline_height_loss: 0.0992 - polyline_width_mean_squared_error: 0.0903 - polyline_height_mean_squared_error: 0.0906 - val_loss: 0.5168 - val_polyline_width_loss: 0.2966 - val_polyline_height_loss: 0.2202 - val_polyline_width_mean_squared_error: 0.3481 - val_polyline_height_mean_squared_error: 0.3396 - lr: 1.0000e-04 - 329s/epoch - 401ms/step\n",
            "Epoch 4/10\n",
            "Epoch 4. Draw polylines on train generator...\n"
          ]
        },
        {
          "output_type": "display_data",
          "data": {
            "image/png": "[encoded data removed]",
            "text/plain": [
              "<PIL.Image.Image image mode=RGB size=256x256 at 0x7F22CDDCC350>"
            ]
          },
          "metadata": {}
        },
        {
          "output_type": "stream",
          "name": "stdout",
          "text": [
            "Test on test image...\n"
          ]
        },
        {
          "output_type": "display_data",
          "data": {
            "image/png": "[encoded data removed]",
            "text/plain": [
              "<PIL.Image.Image image mode=RGB size=256x256 at 0x7F22CE55F1D0>"
            ]
          },
          "metadata": {}
        },
        {
          "output_type": "stream",
          "name": "stdout",
          "text": [
            "821/821 - 327s - loss: 0.1983 - polyline_width_loss: 0.0995 - polyline_height_loss: 0.0989 - polyline_width_mean_squared_error: 0.0900 - polyline_height_mean_squared_error: 0.0902 - val_loss: 0.5046 - val_polyline_width_loss: 0.2904 - val_polyline_height_loss: 0.2143 - val_polyline_width_mean_squared_error: 0.3427 - val_polyline_height_mean_squared_error: 0.3348 - lr: 8.0000e-05 - 327s/epoch - 398ms/step\n",
            "Epoch 5/10\n"
          ]
        },
        {
          "output_type": "error",
          "ename": "KeyboardInterrupt",
          "evalue": "ignored",
          "traceback": [
            "\u001b[0;31m---------------------------------------------------------------------------\u001b[0m",
            "\u001b[0;31mKeyboardInterrupt\u001b[0m                         Traceback (most recent call last)",
            "\u001b[0;32m<ipython-input-315-6bbfd3fc554f>\u001b[0m in \u001b[0;36m<module>\u001b[0;34m()\u001b[0m\n\u001b[1;32m      9\u001b[0m                         \u001b[0mreduce_lr_callback_depends_on_polyline_2_loss\u001b[0m\u001b[0;34m,\u001b[0m\u001b[0;34m\u001b[0m\u001b[0;34m\u001b[0m\u001b[0m\n\u001b[1;32m     10\u001b[0m                         \u001b[0mmodel_checkpoint_callback\u001b[0m\u001b[0;34m,\u001b[0m\u001b[0;34m\u001b[0m\u001b[0;34m\u001b[0m\u001b[0m\n\u001b[0;32m---> 11\u001b[0;31m                         \u001b[0mDrawPolylineOnEpochEnd\u001b[0m\u001b[0;34m(\u001b[0m\u001b[0mtrain_generator\u001b[0m\u001b[0;34m=\u001b[0m\u001b[0mtrain_generator\u001b[0m\u001b[0;34m,\u001b[0m \u001b[0mvalidation_generator\u001b[0m\u001b[0;34m=\u001b[0m\u001b[0mvalidation_generator\u001b[0m\u001b[0;34m,\u001b[0m\u001b[0mmodel\u001b[0m\u001b[0;34m=\u001b[0m\u001b[0mmodel\u001b[0m\u001b[0;34m,\u001b[0m\u001b[0mtest_frame\u001b[0m\u001b[0;34m=\u001b[0m\u001b[0mframe\u001b[0m\u001b[0;34m)\u001b[0m\u001b[0;34m\u001b[0m\u001b[0;34m\u001b[0m\u001b[0m\n\u001b[0m\u001b[1;32m     12\u001b[0m                       ],\n\u001b[1;32m     13\u001b[0m                     )\n",
            "\u001b[0;32m/usr/local/lib/python3.7/dist-packages/keras/utils/traceback_utils.py\u001b[0m in \u001b[0;36merror_handler\u001b[0;34m(*args, **kwargs)\u001b[0m\n\u001b[1;32m     62\u001b[0m     \u001b[0mfiltered_tb\u001b[0m \u001b[0;34m=\u001b[0m \u001b[0;32mNone\u001b[0m\u001b[0;34m\u001b[0m\u001b[0;34m\u001b[0m\u001b[0m\n\u001b[1;32m     63\u001b[0m     \u001b[0;32mtry\u001b[0m\u001b[0;34m:\u001b[0m\u001b[0;34m\u001b[0m\u001b[0;34m\u001b[0m\u001b[0m\n\u001b[0;32m---> 64\u001b[0;31m       \u001b[0;32mreturn\u001b[0m \u001b[0mfn\u001b[0m\u001b[0;34m(\u001b[0m\u001b[0;34m*\u001b[0m\u001b[0margs\u001b[0m\u001b[0;34m,\u001b[0m \u001b[0;34m**\u001b[0m\u001b[0mkwargs\u001b[0m\u001b[0;34m)\u001b[0m\u001b[0;34m\u001b[0m\u001b[0;34m\u001b[0m\u001b[0m\n\u001b[0m\u001b[1;32m     65\u001b[0m     \u001b[0;32mexcept\u001b[0m \u001b[0mException\u001b[0m \u001b[0;32mas\u001b[0m \u001b[0me\u001b[0m\u001b[0;34m:\u001b[0m  \u001b[0;31m# pylint: disable=broad-except\u001b[0m\u001b[0;34m\u001b[0m\u001b[0;34m\u001b[0m\u001b[0m\n\u001b[1;32m     66\u001b[0m       \u001b[0mfiltered_tb\u001b[0m \u001b[0;34m=\u001b[0m \u001b[0m_process_traceback_frames\u001b[0m\u001b[0;34m(\u001b[0m\u001b[0me\u001b[0m\u001b[0;34m.\u001b[0m\u001b[0m__traceback__\u001b[0m\u001b[0;34m)\u001b[0m\u001b[0;34m\u001b[0m\u001b[0;34m\u001b[0m\u001b[0m\n",
            "\u001b[0;32m/usr/local/lib/python3.7/dist-packages/keras/engine/training.py\u001b[0m in \u001b[0;36mfit\u001b[0;34m(self, x, y, batch_size, epochs, verbose, callbacks, validation_split, validation_data, shuffle, class_weight, sample_weight, initial_epoch, steps_per_epoch, validation_steps, validation_batch_size, validation_freq, max_queue_size, workers, use_multiprocessing)\u001b[0m\n\u001b[1;32m   1382\u001b[0m                 _r=1):\n\u001b[1;32m   1383\u001b[0m               \u001b[0mcallbacks\u001b[0m\u001b[0;34m.\u001b[0m\u001b[0mon_train_batch_begin\u001b[0m\u001b[0;34m(\u001b[0m\u001b[0mstep\u001b[0m\u001b[0;34m)\u001b[0m\u001b[0;34m\u001b[0m\u001b[0;34m\u001b[0m\u001b[0m\n\u001b[0;32m-> 1384\u001b[0;31m               \u001b[0mtmp_logs\u001b[0m \u001b[0;34m=\u001b[0m \u001b[0mself\u001b[0m\u001b[0;34m.\u001b[0m\u001b[0mtrain_function\u001b[0m\u001b[0;34m(\u001b[0m\u001b[0miterator\u001b[0m\u001b[0;34m)\u001b[0m\u001b[0;34m\u001b[0m\u001b[0;34m\u001b[0m\u001b[0m\n\u001b[0m\u001b[1;32m   1385\u001b[0m               \u001b[0;32mif\u001b[0m \u001b[0mdata_handler\u001b[0m\u001b[0;34m.\u001b[0m\u001b[0mshould_sync\u001b[0m\u001b[0;34m:\u001b[0m\u001b[0;34m\u001b[0m\u001b[0;34m\u001b[0m\u001b[0m\n\u001b[1;32m   1386\u001b[0m                 \u001b[0mcontext\u001b[0m\u001b[0;34m.\u001b[0m\u001b[0masync_wait\u001b[0m\u001b[0;34m(\u001b[0m\u001b[0;34m)\u001b[0m\u001b[0;34m\u001b[0m\u001b[0;34m\u001b[0m\u001b[0m\n",
            "\u001b[0;32m/usr/local/lib/python3.7/dist-packages/tensorflow/python/util/traceback_utils.py\u001b[0m in \u001b[0;36merror_handler\u001b[0;34m(*args, **kwargs)\u001b[0m\n\u001b[1;32m    148\u001b[0m     \u001b[0mfiltered_tb\u001b[0m \u001b[0;34m=\u001b[0m \u001b[0;32mNone\u001b[0m\u001b[0;34m\u001b[0m\u001b[0;34m\u001b[0m\u001b[0m\n\u001b[1;32m    149\u001b[0m     \u001b[0;32mtry\u001b[0m\u001b[0;34m:\u001b[0m\u001b[0;34m\u001b[0m\u001b[0;34m\u001b[0m\u001b[0m\n\u001b[0;32m--> 150\u001b[0;31m       \u001b[0;32mreturn\u001b[0m \u001b[0mfn\u001b[0m\u001b[0;34m(\u001b[0m\u001b[0;34m*\u001b[0m\u001b[0margs\u001b[0m\u001b[0;34m,\u001b[0m \u001b[0;34m**\u001b[0m\u001b[0mkwargs\u001b[0m\u001b[0;34m)\u001b[0m\u001b[0;34m\u001b[0m\u001b[0;34m\u001b[0m\u001b[0m\n\u001b[0m\u001b[1;32m    151\u001b[0m     \u001b[0;32mexcept\u001b[0m \u001b[0mException\u001b[0m \u001b[0;32mas\u001b[0m \u001b[0me\u001b[0m\u001b[0;34m:\u001b[0m\u001b[0;34m\u001b[0m\u001b[0;34m\u001b[0m\u001b[0m\n\u001b[1;32m    152\u001b[0m       \u001b[0mfiltered_tb\u001b[0m \u001b[0;34m=\u001b[0m \u001b[0m_process_traceback_frames\u001b[0m\u001b[0;34m(\u001b[0m\u001b[0me\u001b[0m\u001b[0;34m.\u001b[0m\u001b[0m__traceback__\u001b[0m\u001b[0;34m)\u001b[0m\u001b[0;34m\u001b[0m\u001b[0;34m\u001b[0m\u001b[0m\n",
            "\u001b[0;32m/usr/local/lib/python3.7/dist-packages/tensorflow/python/eager/def_function.py\u001b[0m in \u001b[0;36m__call__\u001b[0;34m(self, *args, **kwds)\u001b[0m\n\u001b[1;32m    913\u001b[0m \u001b[0;34m\u001b[0m\u001b[0m\n\u001b[1;32m    914\u001b[0m       \u001b[0;32mwith\u001b[0m \u001b[0mOptionalXlaContext\u001b[0m\u001b[0;34m(\u001b[0m\u001b[0mself\u001b[0m\u001b[0;34m.\u001b[0m\u001b[0m_jit_compile\u001b[0m\u001b[0;34m)\u001b[0m\u001b[0;34m:\u001b[0m\u001b[0;34m\u001b[0m\u001b[0;34m\u001b[0m\u001b[0m\n\u001b[0;32m--> 915\u001b[0;31m         \u001b[0mresult\u001b[0m \u001b[0;34m=\u001b[0m \u001b[0mself\u001b[0m\u001b[0;34m.\u001b[0m\u001b[0m_call\u001b[0m\u001b[0;34m(\u001b[0m\u001b[0;34m*\u001b[0m\u001b[0margs\u001b[0m\u001b[0;34m,\u001b[0m \u001b[0;34m**\u001b[0m\u001b[0mkwds\u001b[0m\u001b[0;34m)\u001b[0m\u001b[0;34m\u001b[0m\u001b[0;34m\u001b[0m\u001b[0m\n\u001b[0m\u001b[1;32m    916\u001b[0m \u001b[0;34m\u001b[0m\u001b[0m\n\u001b[1;32m    917\u001b[0m       \u001b[0mnew_tracing_count\u001b[0m \u001b[0;34m=\u001b[0m \u001b[0mself\u001b[0m\u001b[0;34m.\u001b[0m\u001b[0mexperimental_get_tracing_count\u001b[0m\u001b[0;34m(\u001b[0m\u001b[0;34m)\u001b[0m\u001b[0;34m\u001b[0m\u001b[0;34m\u001b[0m\u001b[0m\n",
            "\u001b[0;32m/usr/local/lib/python3.7/dist-packages/tensorflow/python/eager/def_function.py\u001b[0m in \u001b[0;36m_call\u001b[0;34m(self, *args, **kwds)\u001b[0m\n\u001b[1;32m    945\u001b[0m       \u001b[0;31m# In this case we have created variables on the first call, so we run the\u001b[0m\u001b[0;34m\u001b[0m\u001b[0;34m\u001b[0m\u001b[0;34m\u001b[0m\u001b[0m\n\u001b[1;32m    946\u001b[0m       \u001b[0;31m# defunned version which is guaranteed to never create variables.\u001b[0m\u001b[0;34m\u001b[0m\u001b[0;34m\u001b[0m\u001b[0;34m\u001b[0m\u001b[0m\n\u001b[0;32m--> 947\u001b[0;31m       \u001b[0;32mreturn\u001b[0m \u001b[0mself\u001b[0m\u001b[0;34m.\u001b[0m\u001b[0m_stateless_fn\u001b[0m\u001b[0;34m(\u001b[0m\u001b[0;34m*\u001b[0m\u001b[0margs\u001b[0m\u001b[0;34m,\u001b[0m \u001b[0;34m**\u001b[0m\u001b[0mkwds\u001b[0m\u001b[0;34m)\u001b[0m  \u001b[0;31m# pylint: disable=not-callable\u001b[0m\u001b[0;34m\u001b[0m\u001b[0;34m\u001b[0m\u001b[0m\n\u001b[0m\u001b[1;32m    948\u001b[0m     \u001b[0;32melif\u001b[0m \u001b[0mself\u001b[0m\u001b[0;34m.\u001b[0m\u001b[0m_stateful_fn\u001b[0m \u001b[0;32mis\u001b[0m \u001b[0;32mnot\u001b[0m \u001b[0;32mNone\u001b[0m\u001b[0;34m:\u001b[0m\u001b[0;34m\u001b[0m\u001b[0;34m\u001b[0m\u001b[0m\n\u001b[1;32m    949\u001b[0m       \u001b[0;31m# Release the lock early so that multiple threads can perform the call\u001b[0m\u001b[0;34m\u001b[0m\u001b[0;34m\u001b[0m\u001b[0;34m\u001b[0m\u001b[0m\n",
            "\u001b[0;32m/usr/local/lib/python3.7/dist-packages/tensorflow/python/eager/function.py\u001b[0m in \u001b[0;36m__call__\u001b[0;34m(self, *args, **kwargs)\u001b[0m\n\u001b[1;32m   2955\u001b[0m        filtered_flat_args) = self._maybe_define_function(args, kwargs)\n\u001b[1;32m   2956\u001b[0m     return graph_function._call_flat(\n\u001b[0;32m-> 2957\u001b[0;31m         filtered_flat_args, captured_inputs=graph_function.captured_inputs)  # pylint: disable=protected-access\n\u001b[0m\u001b[1;32m   2958\u001b[0m \u001b[0;34m\u001b[0m\u001b[0m\n\u001b[1;32m   2959\u001b[0m   \u001b[0;34m@\u001b[0m\u001b[0mproperty\u001b[0m\u001b[0;34m\u001b[0m\u001b[0;34m\u001b[0m\u001b[0m\n",
            "\u001b[0;32m/usr/local/lib/python3.7/dist-packages/tensorflow/python/eager/function.py\u001b[0m in \u001b[0;36m_call_flat\u001b[0;34m(self, args, captured_inputs, cancellation_manager)\u001b[0m\n\u001b[1;32m   1852\u001b[0m       \u001b[0;31m# No tape is watching; skip to running the function.\u001b[0m\u001b[0;34m\u001b[0m\u001b[0;34m\u001b[0m\u001b[0;34m\u001b[0m\u001b[0m\n\u001b[1;32m   1853\u001b[0m       return self._build_call_outputs(self._inference_function.call(\n\u001b[0;32m-> 1854\u001b[0;31m           ctx, args, cancellation_manager=cancellation_manager))\n\u001b[0m\u001b[1;32m   1855\u001b[0m     forward_backward = self._select_forward_and_backward_functions(\n\u001b[1;32m   1856\u001b[0m         \u001b[0margs\u001b[0m\u001b[0;34m,\u001b[0m\u001b[0;34m\u001b[0m\u001b[0;34m\u001b[0m\u001b[0m\n",
            "\u001b[0;32m/usr/local/lib/python3.7/dist-packages/tensorflow/python/eager/function.py\u001b[0m in \u001b[0;36mcall\u001b[0;34m(self, ctx, args, cancellation_manager)\u001b[0m\n\u001b[1;32m    502\u001b[0m               \u001b[0minputs\u001b[0m\u001b[0;34m=\u001b[0m\u001b[0margs\u001b[0m\u001b[0;34m,\u001b[0m\u001b[0;34m\u001b[0m\u001b[0;34m\u001b[0m\u001b[0m\n\u001b[1;32m    503\u001b[0m               \u001b[0mattrs\u001b[0m\u001b[0;34m=\u001b[0m\u001b[0mattrs\u001b[0m\u001b[0;34m,\u001b[0m\u001b[0;34m\u001b[0m\u001b[0;34m\u001b[0m\u001b[0m\n\u001b[0;32m--> 504\u001b[0;31m               ctx=ctx)\n\u001b[0m\u001b[1;32m    505\u001b[0m         \u001b[0;32melse\u001b[0m\u001b[0;34m:\u001b[0m\u001b[0;34m\u001b[0m\u001b[0;34m\u001b[0m\u001b[0m\n\u001b[1;32m    506\u001b[0m           outputs = execute.execute_with_cancellation(\n",
            "\u001b[0;32m/usr/local/lib/python3.7/dist-packages/tensorflow/python/eager/execute.py\u001b[0m in \u001b[0;36mquick_execute\u001b[0;34m(op_name, num_outputs, inputs, attrs, ctx, name)\u001b[0m\n\u001b[1;32m     53\u001b[0m     \u001b[0mctx\u001b[0m\u001b[0;34m.\u001b[0m\u001b[0mensure_initialized\u001b[0m\u001b[0;34m(\u001b[0m\u001b[0;34m)\u001b[0m\u001b[0;34m\u001b[0m\u001b[0;34m\u001b[0m\u001b[0m\n\u001b[1;32m     54\u001b[0m     tensors = pywrap_tfe.TFE_Py_Execute(ctx._handle, device_name, op_name,\n\u001b[0;32m---> 55\u001b[0;31m                                         inputs, attrs, num_outputs)\n\u001b[0m\u001b[1;32m     56\u001b[0m   \u001b[0;32mexcept\u001b[0m \u001b[0mcore\u001b[0m\u001b[0;34m.\u001b[0m\u001b[0m_NotOkStatusException\u001b[0m \u001b[0;32mas\u001b[0m \u001b[0me\u001b[0m\u001b[0;34m:\u001b[0m\u001b[0;34m\u001b[0m\u001b[0;34m\u001b[0m\u001b[0m\n\u001b[1;32m     57\u001b[0m     \u001b[0;32mif\u001b[0m \u001b[0mname\u001b[0m \u001b[0;32mis\u001b[0m \u001b[0;32mnot\u001b[0m \u001b[0;32mNone\u001b[0m\u001b[0;34m:\u001b[0m\u001b[0;34m\u001b[0m\u001b[0;34m\u001b[0m\u001b[0m\n",
            "\u001b[0;31mKeyboardInterrupt\u001b[0m: "
          ]
        }
      ]
    },
    {
      "cell_type": "code",
      "source": [
        "model.load_weights(checkpoint_filepath)"
      ],
      "metadata": {
        "id": "ie6AE8NknM0B"
      },
      "execution_count": null,
      "outputs": []
    },
    {
      "cell_type": "code",
      "execution_count": null,
      "metadata": {
        "id": "6XcxlZE0AVWT"
      },
      "outputs": [],
      "source": [
        "from google.colab import files"
      ]
    },
    {
      "cell_type": "code",
      "execution_count": null,
      "metadata": {
        "id": "GxtFEa_u1usV"
      },
      "outputs": [],
      "source": [
        "model_name_download = MODEL_NAME + '.h5'\n",
        "model_name_download"
      ]
    },
    {
      "cell_type": "code",
      "execution_count": null,
      "metadata": {
        "id": "GqREr2f61u-0"
      },
      "outputs": [],
      "source": [
        "model.save(model_name_download)"
      ]
    },
    {
      "cell_type": "code",
      "execution_count": null,
      "metadata": {
        "id": "70f8v-1x1yg5"
      },
      "outputs": [],
      "source": [
        "files.download(model_name_download)"
      ]
    },
    {
      "cell_type": "code",
      "execution_count": null,
      "metadata": {
        "id": "GaP_1pGN5CHq"
      },
      "outputs": [],
      "source": [
        "model"
      ]
    },
    {
      "cell_type": "code",
      "source": [
        ""
      ],
      "metadata": {
        "id": "UwebC64DOfOy"
      },
      "execution_count": null,
      "outputs": []
    }
  ],
  "metadata": {
    "accelerator": "GPU",
    "colab": {
      "collapsed_sections": [
        "nt1_DqOwidZC",
        "aOLTPqsUigR-",
        "BNcF33kPilYS",
        "3BAEpKDjipo6",
        "fMnTICa2iv-k",
        "apajkVKbsGKa",
        "elQ_r8vfrSIY"
      ],
      "machine_shape": "hm",
      "name": "canny_operator_dataset_polyline_lane_recognition.ipynb",
      "provenance": [],
      "authorship_tag": "ABX9TyPQHicHdO0ZUgIcGVBCZEX7",
      "include_colab_link": true
    },
    "kernelspec": {
      "display_name": "Python 3",
      "name": "python3"
    },
    "language_info": {
      "name": "python"
    }
  },
  "nbformat": 4,
  "nbformat_minor": 0
}